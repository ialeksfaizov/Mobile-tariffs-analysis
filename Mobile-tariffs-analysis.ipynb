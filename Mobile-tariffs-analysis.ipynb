{
 "cells": [
  {
   "cell_type": "markdown",
   "metadata": {},
   "source": [
    "# Определение перспективного тарифа для телеком-компании"
   ]
  },
  {
   "cell_type": "markdown",
   "metadata": {},
   "source": [
    "## Описание проекта"
   ]
  },
  {
   "cell_type": "markdown",
   "metadata": {},
   "source": [
    "В условной компании — федерального оператора сотовой связи, клиентам предлагают два тарифных плана: «Смарт» и «Ультра». Чтобы скорректировать рекламный бюджет, коммерческий департамент хочет понять, какой тариф приносит больше денег.\n",
    "\n",
    "Необходимо выполнить предварительный анализ тарифов на небольшой выборке клиентов. В распоряжении данные 500 пользователей: кто они, откуда, каким тарифом пользуются, сколько звонков и сообщений каждый отправил за 2018 год. Нужно проанализировать поведение клиентов и сделать вывод — какой тариф лучше."
   ]
  },
  {
   "cell_type": "markdown",
   "metadata": {},
   "source": [
    "**Описание тарифов**"
   ]
  },
  {
   "cell_type": "markdown",
   "metadata": {},
   "source": [
    "**Тариф «Смарт»**\n",
    "1. Ежемесячная плата: 550 рублей\n",
    "2. Включено 500 минут разговора, 50 сообщений и 15 Гб интернет-трафика\n",
    "3. Стоимость услуг сверх тарифного пакета: 1. минута разговора: 3 рубля ; 2. сообщение: 3 рубля; 3. 1 Гб интернет-трафика: 200 рублей."
   ]
  },
  {
   "cell_type": "markdown",
   "metadata": {},
   "source": [
    "**Тариф «Ультра»**\n",
    "1. Ежемесячная плата: 1950 рублей\n",
    "2. Включено 3000 минут разговора, 1000 сообщений и 30 Гб интернет-трафика\n",
    "3. Стоимость услуг сверх тарифного пакета: 1. минута разговора: 1 рубль; 2. сообщение: 1 рубль; 3. 1 Гб интернет-трафика: 150 рублей."
   ]
  },
  {
   "cell_type": "markdown",
   "metadata": {},
   "source": [
    "*Примечание:*\n",
    "\n",
    "*«Мегалайн» всегда округляет секунды до минут, а мегабайты — до гигабайт. Каждый звонок округляется отдельно: даже если он длился всего 1 секунду, будет засчитан как 1 минута.\n",
    "Для веб-трафика отдельные сессии не считаются. Вместо этого общая сумма за месяц округляется в бо́льшую сторону. Если абонент использует 1025 мегабайт в этом месяце, с него возьмут плату за 2 гигабайта.*"
   ]
  },
  {
   "cell_type": "code",
   "execution_count": 1,
   "metadata": {},
   "outputs": [],
   "source": [
    "import pandas as pd\n",
    "import numpy as np\n",
    "import scipy.stats as st\n",
    "import datetime\n",
    "from tqdm import tqdm\n",
    "import matplotlib.pyplot as plt"
   ]
  },
  {
   "cell_type": "code",
   "execution_count": 2,
   "metadata": {},
   "outputs": [],
   "source": [
    "df_calls = pd.read_csv('/datasets/calls.csv')\n",
    "df_internet = pd.read_csv('/datasets/internet.csv')\n",
    "df_messages = pd.read_csv('/datasets/messages.csv')\n",
    "df_tariffs = pd.read_csv('/datasets/tariffs.csv')\n",
    "df_users = pd.read_csv('/datasets/users.csv')"
   ]
  },
  {
   "cell_type": "code",
   "execution_count": 3,
   "metadata": {},
   "outputs": [],
   "source": [
    "def review(df): \n",
    "    \"\"\"Функция для отображения общей информации\"\"\"\n",
    "    info = display(df.head(10)), df.info()"
   ]
  },
  {
   "cell_type": "markdown",
   "metadata": {},
   "source": [
    "## Откроем файлы с данными и изучим общую информацию"
   ]
  },
  {
   "cell_type": "markdown",
   "metadata": {},
   "source": [
    "### Информация о звонках"
   ]
  },
  {
   "cell_type": "code",
   "execution_count": 4,
   "metadata": {},
   "outputs": [
    {
     "data": {
      "text/html": [
       "<div>\n",
       "<style scoped>\n",
       "    .dataframe tbody tr th:only-of-type {\n",
       "        vertical-align: middle;\n",
       "    }\n",
       "\n",
       "    .dataframe tbody tr th {\n",
       "        vertical-align: top;\n",
       "    }\n",
       "\n",
       "    .dataframe thead th {\n",
       "        text-align: right;\n",
       "    }\n",
       "</style>\n",
       "<table border=\"1\" class=\"dataframe\">\n",
       "  <thead>\n",
       "    <tr style=\"text-align: right;\">\n",
       "      <th></th>\n",
       "      <th>id</th>\n",
       "      <th>call_date</th>\n",
       "      <th>duration</th>\n",
       "      <th>user_id</th>\n",
       "    </tr>\n",
       "  </thead>\n",
       "  <tbody>\n",
       "    <tr>\n",
       "      <td>0</td>\n",
       "      <td>1000_0</td>\n",
       "      <td>2018-07-25</td>\n",
       "      <td>0.00</td>\n",
       "      <td>1000</td>\n",
       "    </tr>\n",
       "    <tr>\n",
       "      <td>1</td>\n",
       "      <td>1000_1</td>\n",
       "      <td>2018-08-17</td>\n",
       "      <td>0.00</td>\n",
       "      <td>1000</td>\n",
       "    </tr>\n",
       "    <tr>\n",
       "      <td>2</td>\n",
       "      <td>1000_2</td>\n",
       "      <td>2018-06-11</td>\n",
       "      <td>2.85</td>\n",
       "      <td>1000</td>\n",
       "    </tr>\n",
       "    <tr>\n",
       "      <td>3</td>\n",
       "      <td>1000_3</td>\n",
       "      <td>2018-09-21</td>\n",
       "      <td>13.80</td>\n",
       "      <td>1000</td>\n",
       "    </tr>\n",
       "    <tr>\n",
       "      <td>4</td>\n",
       "      <td>1000_4</td>\n",
       "      <td>2018-12-15</td>\n",
       "      <td>5.18</td>\n",
       "      <td>1000</td>\n",
       "    </tr>\n",
       "    <tr>\n",
       "      <td>5</td>\n",
       "      <td>1000_5</td>\n",
       "      <td>2018-11-02</td>\n",
       "      <td>0.00</td>\n",
       "      <td>1000</td>\n",
       "    </tr>\n",
       "    <tr>\n",
       "      <td>6</td>\n",
       "      <td>1000_6</td>\n",
       "      <td>2018-10-18</td>\n",
       "      <td>0.00</td>\n",
       "      <td>1000</td>\n",
       "    </tr>\n",
       "    <tr>\n",
       "      <td>7</td>\n",
       "      <td>1000_7</td>\n",
       "      <td>2018-08-22</td>\n",
       "      <td>18.31</td>\n",
       "      <td>1000</td>\n",
       "    </tr>\n",
       "    <tr>\n",
       "      <td>8</td>\n",
       "      <td>1000_8</td>\n",
       "      <td>2018-09-15</td>\n",
       "      <td>18.44</td>\n",
       "      <td>1000</td>\n",
       "    </tr>\n",
       "    <tr>\n",
       "      <td>9</td>\n",
       "      <td>1000_9</td>\n",
       "      <td>2018-08-15</td>\n",
       "      <td>0.00</td>\n",
       "      <td>1000</td>\n",
       "    </tr>\n",
       "  </tbody>\n",
       "</table>\n",
       "</div>"
      ],
      "text/plain": [
       "       id   call_date  duration  user_id\n",
       "0  1000_0  2018-07-25      0.00     1000\n",
       "1  1000_1  2018-08-17      0.00     1000\n",
       "2  1000_2  2018-06-11      2.85     1000\n",
       "3  1000_3  2018-09-21     13.80     1000\n",
       "4  1000_4  2018-12-15      5.18     1000\n",
       "5  1000_5  2018-11-02      0.00     1000\n",
       "6  1000_6  2018-10-18      0.00     1000\n",
       "7  1000_7  2018-08-22     18.31     1000\n",
       "8  1000_8  2018-09-15     18.44     1000\n",
       "9  1000_9  2018-08-15      0.00     1000"
      ]
     },
     "metadata": {},
     "output_type": "display_data"
    },
    {
     "name": "stdout",
     "output_type": "stream",
     "text": [
      "<class 'pandas.core.frame.DataFrame'>\n",
      "RangeIndex: 202607 entries, 0 to 202606\n",
      "Data columns (total 4 columns):\n",
      "id           202607 non-null object\n",
      "call_date    202607 non-null object\n",
      "duration     202607 non-null float64\n",
      "user_id      202607 non-null int64\n",
      "dtypes: float64(1), int64(1), object(2)\n",
      "memory usage: 6.2+ MB\n"
     ]
    }
   ],
   "source": [
    "review(df_calls)"
   ]
  },
  {
   "cell_type": "markdown",
   "metadata": {},
   "source": [
    "**Вывод**"
   ]
  },
  {
   "cell_type": "markdown",
   "metadata": {},
   "source": [
    "- в датафрейме собрана информация о звонках; \n",
    "- не наблюдаются пропущенные значения;\n",
    "- значения столбца ```call_date``` привести к типу данных ```datetime```."
   ]
  },
  {
   "cell_type": "markdown",
   "metadata": {},
   "source": [
    "### Информация об интернет сессиях."
   ]
  },
  {
   "cell_type": "code",
   "execution_count": 5,
   "metadata": {},
   "outputs": [
    {
     "data": {
      "text/html": [
       "<div>\n",
       "<style scoped>\n",
       "    .dataframe tbody tr th:only-of-type {\n",
       "        vertical-align: middle;\n",
       "    }\n",
       "\n",
       "    .dataframe tbody tr th {\n",
       "        vertical-align: top;\n",
       "    }\n",
       "\n",
       "    .dataframe thead th {\n",
       "        text-align: right;\n",
       "    }\n",
       "</style>\n",
       "<table border=\"1\" class=\"dataframe\">\n",
       "  <thead>\n",
       "    <tr style=\"text-align: right;\">\n",
       "      <th></th>\n",
       "      <th>Unnamed: 0</th>\n",
       "      <th>id</th>\n",
       "      <th>mb_used</th>\n",
       "      <th>session_date</th>\n",
       "      <th>user_id</th>\n",
       "    </tr>\n",
       "  </thead>\n",
       "  <tbody>\n",
       "    <tr>\n",
       "      <td>0</td>\n",
       "      <td>0</td>\n",
       "      <td>1000_0</td>\n",
       "      <td>112.95</td>\n",
       "      <td>2018-11-25</td>\n",
       "      <td>1000</td>\n",
       "    </tr>\n",
       "    <tr>\n",
       "      <td>1</td>\n",
       "      <td>1</td>\n",
       "      <td>1000_1</td>\n",
       "      <td>1052.81</td>\n",
       "      <td>2018-09-07</td>\n",
       "      <td>1000</td>\n",
       "    </tr>\n",
       "    <tr>\n",
       "      <td>2</td>\n",
       "      <td>2</td>\n",
       "      <td>1000_2</td>\n",
       "      <td>1197.26</td>\n",
       "      <td>2018-06-25</td>\n",
       "      <td>1000</td>\n",
       "    </tr>\n",
       "    <tr>\n",
       "      <td>3</td>\n",
       "      <td>3</td>\n",
       "      <td>1000_3</td>\n",
       "      <td>550.27</td>\n",
       "      <td>2018-08-22</td>\n",
       "      <td>1000</td>\n",
       "    </tr>\n",
       "    <tr>\n",
       "      <td>4</td>\n",
       "      <td>4</td>\n",
       "      <td>1000_4</td>\n",
       "      <td>302.56</td>\n",
       "      <td>2018-09-24</td>\n",
       "      <td>1000</td>\n",
       "    </tr>\n",
       "    <tr>\n",
       "      <td>5</td>\n",
       "      <td>5</td>\n",
       "      <td>1000_5</td>\n",
       "      <td>399.97</td>\n",
       "      <td>2018-10-02</td>\n",
       "      <td>1000</td>\n",
       "    </tr>\n",
       "    <tr>\n",
       "      <td>6</td>\n",
       "      <td>6</td>\n",
       "      <td>1000_6</td>\n",
       "      <td>540.08</td>\n",
       "      <td>2018-09-07</td>\n",
       "      <td>1000</td>\n",
       "    </tr>\n",
       "    <tr>\n",
       "      <td>7</td>\n",
       "      <td>7</td>\n",
       "      <td>1000_7</td>\n",
       "      <td>415.70</td>\n",
       "      <td>2018-07-11</td>\n",
       "      <td>1000</td>\n",
       "    </tr>\n",
       "    <tr>\n",
       "      <td>8</td>\n",
       "      <td>8</td>\n",
       "      <td>1000_8</td>\n",
       "      <td>505.40</td>\n",
       "      <td>2018-10-08</td>\n",
       "      <td>1000</td>\n",
       "    </tr>\n",
       "    <tr>\n",
       "      <td>9</td>\n",
       "      <td>9</td>\n",
       "      <td>1000_9</td>\n",
       "      <td>345.54</td>\n",
       "      <td>2018-09-03</td>\n",
       "      <td>1000</td>\n",
       "    </tr>\n",
       "  </tbody>\n",
       "</table>\n",
       "</div>"
      ],
      "text/plain": [
       "   Unnamed: 0      id  mb_used session_date  user_id\n",
       "0           0  1000_0   112.95   2018-11-25     1000\n",
       "1           1  1000_1  1052.81   2018-09-07     1000\n",
       "2           2  1000_2  1197.26   2018-06-25     1000\n",
       "3           3  1000_3   550.27   2018-08-22     1000\n",
       "4           4  1000_4   302.56   2018-09-24     1000\n",
       "5           5  1000_5   399.97   2018-10-02     1000\n",
       "6           6  1000_6   540.08   2018-09-07     1000\n",
       "7           7  1000_7   415.70   2018-07-11     1000\n",
       "8           8  1000_8   505.40   2018-10-08     1000\n",
       "9           9  1000_9   345.54   2018-09-03     1000"
      ]
     },
     "metadata": {},
     "output_type": "display_data"
    },
    {
     "name": "stdout",
     "output_type": "stream",
     "text": [
      "<class 'pandas.core.frame.DataFrame'>\n",
      "RangeIndex: 149396 entries, 0 to 149395\n",
      "Data columns (total 5 columns):\n",
      "Unnamed: 0      149396 non-null int64\n",
      "id              149396 non-null object\n",
      "mb_used         149396 non-null float64\n",
      "session_date    149396 non-null object\n",
      "user_id         149396 non-null int64\n",
      "dtypes: float64(1), int64(2), object(2)\n",
      "memory usage: 5.7+ MB\n"
     ]
    }
   ],
   "source": [
    "review(df_internet)"
   ]
  },
  {
   "cell_type": "markdown",
   "metadata": {},
   "source": [
    "**Вывод**"
   ]
  },
  {
   "cell_type": "markdown",
   "metadata": {},
   "source": [
    "- в датафрейме собрана информация об интернет сессиях; \n",
    "- не наблюдаются пропущенные значения;\n",
    "- значения столбца ```session_date``` привести к типу данных ```datetime```"
   ]
  },
  {
   "cell_type": "markdown",
   "metadata": {},
   "source": [
    "### Информация о сообщениях."
   ]
  },
  {
   "cell_type": "code",
   "execution_count": 6,
   "metadata": {},
   "outputs": [
    {
     "data": {
      "text/html": [
       "<div>\n",
       "<style scoped>\n",
       "    .dataframe tbody tr th:only-of-type {\n",
       "        vertical-align: middle;\n",
       "    }\n",
       "\n",
       "    .dataframe tbody tr th {\n",
       "        vertical-align: top;\n",
       "    }\n",
       "\n",
       "    .dataframe thead th {\n",
       "        text-align: right;\n",
       "    }\n",
       "</style>\n",
       "<table border=\"1\" class=\"dataframe\">\n",
       "  <thead>\n",
       "    <tr style=\"text-align: right;\">\n",
       "      <th></th>\n",
       "      <th>id</th>\n",
       "      <th>message_date</th>\n",
       "      <th>user_id</th>\n",
       "    </tr>\n",
       "  </thead>\n",
       "  <tbody>\n",
       "    <tr>\n",
       "      <td>0</td>\n",
       "      <td>1000_0</td>\n",
       "      <td>2018-06-27</td>\n",
       "      <td>1000</td>\n",
       "    </tr>\n",
       "    <tr>\n",
       "      <td>1</td>\n",
       "      <td>1000_1</td>\n",
       "      <td>2018-10-08</td>\n",
       "      <td>1000</td>\n",
       "    </tr>\n",
       "    <tr>\n",
       "      <td>2</td>\n",
       "      <td>1000_2</td>\n",
       "      <td>2018-08-04</td>\n",
       "      <td>1000</td>\n",
       "    </tr>\n",
       "    <tr>\n",
       "      <td>3</td>\n",
       "      <td>1000_3</td>\n",
       "      <td>2018-06-16</td>\n",
       "      <td>1000</td>\n",
       "    </tr>\n",
       "    <tr>\n",
       "      <td>4</td>\n",
       "      <td>1000_4</td>\n",
       "      <td>2018-12-05</td>\n",
       "      <td>1000</td>\n",
       "    </tr>\n",
       "    <tr>\n",
       "      <td>5</td>\n",
       "      <td>1000_5</td>\n",
       "      <td>2018-06-20</td>\n",
       "      <td>1000</td>\n",
       "    </tr>\n",
       "    <tr>\n",
       "      <td>6</td>\n",
       "      <td>1000_6</td>\n",
       "      <td>2018-11-19</td>\n",
       "      <td>1000</td>\n",
       "    </tr>\n",
       "    <tr>\n",
       "      <td>7</td>\n",
       "      <td>1000_7</td>\n",
       "      <td>2018-10-29</td>\n",
       "      <td>1000</td>\n",
       "    </tr>\n",
       "    <tr>\n",
       "      <td>8</td>\n",
       "      <td>1000_8</td>\n",
       "      <td>2018-06-25</td>\n",
       "      <td>1000</td>\n",
       "    </tr>\n",
       "    <tr>\n",
       "      <td>9</td>\n",
       "      <td>1000_9</td>\n",
       "      <td>2018-12-18</td>\n",
       "      <td>1000</td>\n",
       "    </tr>\n",
       "  </tbody>\n",
       "</table>\n",
       "</div>"
      ],
      "text/plain": [
       "       id message_date  user_id\n",
       "0  1000_0   2018-06-27     1000\n",
       "1  1000_1   2018-10-08     1000\n",
       "2  1000_2   2018-08-04     1000\n",
       "3  1000_3   2018-06-16     1000\n",
       "4  1000_4   2018-12-05     1000\n",
       "5  1000_5   2018-06-20     1000\n",
       "6  1000_6   2018-11-19     1000\n",
       "7  1000_7   2018-10-29     1000\n",
       "8  1000_8   2018-06-25     1000\n",
       "9  1000_9   2018-12-18     1000"
      ]
     },
     "metadata": {},
     "output_type": "display_data"
    },
    {
     "name": "stdout",
     "output_type": "stream",
     "text": [
      "<class 'pandas.core.frame.DataFrame'>\n",
      "RangeIndex: 123036 entries, 0 to 123035\n",
      "Data columns (total 3 columns):\n",
      "id              123036 non-null object\n",
      "message_date    123036 non-null object\n",
      "user_id         123036 non-null int64\n",
      "dtypes: int64(1), object(2)\n",
      "memory usage: 2.8+ MB\n"
     ]
    }
   ],
   "source": [
    "review(df_messages)"
   ]
  },
  {
   "cell_type": "markdown",
   "metadata": {},
   "source": [
    "**Вывод**"
   ]
  },
  {
   "cell_type": "markdown",
   "metadata": {},
   "source": [
    "- в датафрейме собрана информация о сообщениях;\n",
    "- не наблюдаются пропущенные значения;\n",
    "- значения столбца ```message_date``` привести к типу данных ```datetime```."
   ]
  },
  {
   "cell_type": "markdown",
   "metadata": {},
   "source": [
    "### Информация о тарифах."
   ]
  },
  {
   "cell_type": "code",
   "execution_count": 7,
   "metadata": {},
   "outputs": [
    {
     "data": {
      "text/html": [
       "<div>\n",
       "<style scoped>\n",
       "    .dataframe tbody tr th:only-of-type {\n",
       "        vertical-align: middle;\n",
       "    }\n",
       "\n",
       "    .dataframe tbody tr th {\n",
       "        vertical-align: top;\n",
       "    }\n",
       "\n",
       "    .dataframe thead th {\n",
       "        text-align: right;\n",
       "    }\n",
       "</style>\n",
       "<table border=\"1\" class=\"dataframe\">\n",
       "  <thead>\n",
       "    <tr style=\"text-align: right;\">\n",
       "      <th></th>\n",
       "      <th>messages_included</th>\n",
       "      <th>mb_per_month_included</th>\n",
       "      <th>minutes_included</th>\n",
       "      <th>rub_monthly_fee</th>\n",
       "      <th>rub_per_gb</th>\n",
       "      <th>rub_per_message</th>\n",
       "      <th>rub_per_minute</th>\n",
       "      <th>tariff_name</th>\n",
       "    </tr>\n",
       "  </thead>\n",
       "  <tbody>\n",
       "    <tr>\n",
       "      <td>0</td>\n",
       "      <td>50</td>\n",
       "      <td>15360</td>\n",
       "      <td>500</td>\n",
       "      <td>550</td>\n",
       "      <td>200</td>\n",
       "      <td>3</td>\n",
       "      <td>3</td>\n",
       "      <td>smart</td>\n",
       "    </tr>\n",
       "    <tr>\n",
       "      <td>1</td>\n",
       "      <td>1000</td>\n",
       "      <td>30720</td>\n",
       "      <td>3000</td>\n",
       "      <td>1950</td>\n",
       "      <td>150</td>\n",
       "      <td>1</td>\n",
       "      <td>1</td>\n",
       "      <td>ultra</td>\n",
       "    </tr>\n",
       "  </tbody>\n",
       "</table>\n",
       "</div>"
      ],
      "text/plain": [
       "   messages_included  mb_per_month_included  minutes_included  \\\n",
       "0                 50                  15360               500   \n",
       "1               1000                  30720              3000   \n",
       "\n",
       "   rub_monthly_fee  rub_per_gb  rub_per_message  rub_per_minute tariff_name  \n",
       "0              550         200                3               3       smart  \n",
       "1             1950         150                1               1       ultra  "
      ]
     },
     "metadata": {},
     "output_type": "display_data"
    },
    {
     "name": "stdout",
     "output_type": "stream",
     "text": [
      "<class 'pandas.core.frame.DataFrame'>\n",
      "RangeIndex: 2 entries, 0 to 1\n",
      "Data columns (total 8 columns):\n",
      "messages_included        2 non-null int64\n",
      "mb_per_month_included    2 non-null int64\n",
      "minutes_included         2 non-null int64\n",
      "rub_monthly_fee          2 non-null int64\n",
      "rub_per_gb               2 non-null int64\n",
      "rub_per_message          2 non-null int64\n",
      "rub_per_minute           2 non-null int64\n",
      "tariff_name              2 non-null object\n",
      "dtypes: int64(7), object(1)\n",
      "memory usage: 256.0+ bytes\n"
     ]
    }
   ],
   "source": [
    "review(df_tariffs)"
   ]
  },
  {
   "cell_type": "markdown",
   "metadata": {},
   "source": [
    "**Вывод**"
   ]
  },
  {
   "cell_type": "markdown",
   "metadata": {},
   "source": [
    "- в датафрейме собрана информация о тарифах;\n",
    "- не наблюдаются пропущенные значения;\n",
    "- в целом с данными все в порядке."
   ]
  },
  {
   "cell_type": "markdown",
   "metadata": {},
   "source": [
    "### Информация о пользователях."
   ]
  },
  {
   "cell_type": "code",
   "execution_count": 8,
   "metadata": {},
   "outputs": [
    {
     "data": {
      "text/html": [
       "<div>\n",
       "<style scoped>\n",
       "    .dataframe tbody tr th:only-of-type {\n",
       "        vertical-align: middle;\n",
       "    }\n",
       "\n",
       "    .dataframe tbody tr th {\n",
       "        vertical-align: top;\n",
       "    }\n",
       "\n",
       "    .dataframe thead th {\n",
       "        text-align: right;\n",
       "    }\n",
       "</style>\n",
       "<table border=\"1\" class=\"dataframe\">\n",
       "  <thead>\n",
       "    <tr style=\"text-align: right;\">\n",
       "      <th></th>\n",
       "      <th>user_id</th>\n",
       "      <th>age</th>\n",
       "      <th>churn_date</th>\n",
       "      <th>city</th>\n",
       "      <th>first_name</th>\n",
       "      <th>last_name</th>\n",
       "      <th>reg_date</th>\n",
       "      <th>tariff</th>\n",
       "    </tr>\n",
       "  </thead>\n",
       "  <tbody>\n",
       "    <tr>\n",
       "      <td>0</td>\n",
       "      <td>1000</td>\n",
       "      <td>52</td>\n",
       "      <td>NaN</td>\n",
       "      <td>Краснодар</td>\n",
       "      <td>Рафаил</td>\n",
       "      <td>Верещагин</td>\n",
       "      <td>2018-05-25</td>\n",
       "      <td>ultra</td>\n",
       "    </tr>\n",
       "    <tr>\n",
       "      <td>1</td>\n",
       "      <td>1001</td>\n",
       "      <td>41</td>\n",
       "      <td>NaN</td>\n",
       "      <td>Москва</td>\n",
       "      <td>Иван</td>\n",
       "      <td>Ежов</td>\n",
       "      <td>2018-11-01</td>\n",
       "      <td>smart</td>\n",
       "    </tr>\n",
       "    <tr>\n",
       "      <td>2</td>\n",
       "      <td>1002</td>\n",
       "      <td>59</td>\n",
       "      <td>NaN</td>\n",
       "      <td>Стерлитамак</td>\n",
       "      <td>Евгений</td>\n",
       "      <td>Абрамович</td>\n",
       "      <td>2018-06-17</td>\n",
       "      <td>smart</td>\n",
       "    </tr>\n",
       "    <tr>\n",
       "      <td>3</td>\n",
       "      <td>1003</td>\n",
       "      <td>23</td>\n",
       "      <td>NaN</td>\n",
       "      <td>Москва</td>\n",
       "      <td>Белла</td>\n",
       "      <td>Белякова</td>\n",
       "      <td>2018-08-17</td>\n",
       "      <td>ultra</td>\n",
       "    </tr>\n",
       "    <tr>\n",
       "      <td>4</td>\n",
       "      <td>1004</td>\n",
       "      <td>68</td>\n",
       "      <td>NaN</td>\n",
       "      <td>Новокузнецк</td>\n",
       "      <td>Татьяна</td>\n",
       "      <td>Авдеенко</td>\n",
       "      <td>2018-05-14</td>\n",
       "      <td>ultra</td>\n",
       "    </tr>\n",
       "    <tr>\n",
       "      <td>5</td>\n",
       "      <td>1005</td>\n",
       "      <td>67</td>\n",
       "      <td>NaN</td>\n",
       "      <td>Набережные Челны</td>\n",
       "      <td>Афанасий</td>\n",
       "      <td>Горлов</td>\n",
       "      <td>2018-01-25</td>\n",
       "      <td>smart</td>\n",
       "    </tr>\n",
       "    <tr>\n",
       "      <td>6</td>\n",
       "      <td>1006</td>\n",
       "      <td>21</td>\n",
       "      <td>NaN</td>\n",
       "      <td>Ульяновск</td>\n",
       "      <td>Леонид</td>\n",
       "      <td>Ермолаев</td>\n",
       "      <td>2018-02-26</td>\n",
       "      <td>smart</td>\n",
       "    </tr>\n",
       "    <tr>\n",
       "      <td>7</td>\n",
       "      <td>1007</td>\n",
       "      <td>65</td>\n",
       "      <td>NaN</td>\n",
       "      <td>Москва</td>\n",
       "      <td>Юна</td>\n",
       "      <td>Березина</td>\n",
       "      <td>2018-04-19</td>\n",
       "      <td>smart</td>\n",
       "    </tr>\n",
       "    <tr>\n",
       "      <td>8</td>\n",
       "      <td>1008</td>\n",
       "      <td>63</td>\n",
       "      <td>NaN</td>\n",
       "      <td>Челябинск</td>\n",
       "      <td>Рустэм</td>\n",
       "      <td>Пономарёв</td>\n",
       "      <td>2018-12-19</td>\n",
       "      <td>smart</td>\n",
       "    </tr>\n",
       "    <tr>\n",
       "      <td>9</td>\n",
       "      <td>1009</td>\n",
       "      <td>24</td>\n",
       "      <td>NaN</td>\n",
       "      <td>Пермь</td>\n",
       "      <td>Василиса</td>\n",
       "      <td>Блинова</td>\n",
       "      <td>2018-03-22</td>\n",
       "      <td>smart</td>\n",
       "    </tr>\n",
       "  </tbody>\n",
       "</table>\n",
       "</div>"
      ],
      "text/plain": [
       "   user_id  age churn_date              city first_name  last_name  \\\n",
       "0     1000   52        NaN         Краснодар     Рафаил  Верещагин   \n",
       "1     1001   41        NaN            Москва       Иван       Ежов   \n",
       "2     1002   59        NaN       Стерлитамак    Евгений  Абрамович   \n",
       "3     1003   23        NaN            Москва      Белла   Белякова   \n",
       "4     1004   68        NaN       Новокузнецк    Татьяна   Авдеенко   \n",
       "5     1005   67        NaN  Набережные Челны   Афанасий     Горлов   \n",
       "6     1006   21        NaN         Ульяновск     Леонид   Ермолаев   \n",
       "7     1007   65        NaN            Москва        Юна   Березина   \n",
       "8     1008   63        NaN         Челябинск     Рустэм  Пономарёв   \n",
       "9     1009   24        NaN             Пермь   Василиса    Блинова   \n",
       "\n",
       "     reg_date tariff  \n",
       "0  2018-05-25  ultra  \n",
       "1  2018-11-01  smart  \n",
       "2  2018-06-17  smart  \n",
       "3  2018-08-17  ultra  \n",
       "4  2018-05-14  ultra  \n",
       "5  2018-01-25  smart  \n",
       "6  2018-02-26  smart  \n",
       "7  2018-04-19  smart  \n",
       "8  2018-12-19  smart  \n",
       "9  2018-03-22  smart  "
      ]
     },
     "metadata": {},
     "output_type": "display_data"
    },
    {
     "name": "stdout",
     "output_type": "stream",
     "text": [
      "<class 'pandas.core.frame.DataFrame'>\n",
      "RangeIndex: 500 entries, 0 to 499\n",
      "Data columns (total 8 columns):\n",
      "user_id       500 non-null int64\n",
      "age           500 non-null int64\n",
      "churn_date    38 non-null object\n",
      "city          500 non-null object\n",
      "first_name    500 non-null object\n",
      "last_name     500 non-null object\n",
      "reg_date      500 non-null object\n",
      "tariff        500 non-null object\n",
      "dtypes: int64(2), object(6)\n",
      "memory usage: 31.4+ KB\n"
     ]
    }
   ],
   "source": [
    "review(df_users)"
   ]
  },
  {
   "cell_type": "markdown",
   "metadata": {},
   "source": [
    "**Вывод**"
   ]
  },
  {
   "cell_type": "markdown",
   "metadata": {},
   "source": [
    "- в датафрейме собрана информация о пользователях;\n",
    "- согласно документации - ```если значение пропущено, то тариф ещё действовал на момент выгрузки данных``` будет корректно оставить пропущенные значения без изменений; \n",
    "- значения столбца ```reg_date``` привести к типу данных ```datetime```."
   ]
  },
  {
   "cell_type": "markdown",
   "metadata": {},
   "source": [
    "## Подготовим данные для дальнейшего анализа."
   ]
  },
  {
   "cell_type": "markdown",
   "metadata": {},
   "source": [
    "### Преобразуем типы данных"
   ]
  },
  {
   "cell_type": "markdown",
   "metadata": {},
   "source": [
    "Приведем значения столбцов ```call_date```, ```session_date```, ```message_date```, ```reg_date``` и ```churn_date``` к типу данных ```datetime```"
   ]
  },
  {
   "cell_type": "code",
   "execution_count": 9,
   "metadata": {},
   "outputs": [],
   "source": [
    "columns_to_datetime = {'call_date':df_calls,\n",
    "                       'session_date':df_internet,\n",
    "                       'message_date':df_messages,\n",
    "                       'reg_date':df_users,\n",
    "                       'churn_date':df_users\n",
    "                       }\n",
    "\n",
    "for column, frame in columns_to_datetime.items():\n",
    "    frame[column] = pd.to_datetime(frame[column],format = '%Y-%m-%d')"
   ]
  },
  {
   "cell_type": "markdown",
   "metadata": {},
   "source": [
    "### Сбор дополнительных данных для анализа"
   ]
  },
  {
   "cell_type": "markdown",
   "metadata": {},
   "source": [
    "- количество сделанных звонков и израсходованных минут разговора по месяцам"
   ]
  },
  {
   "cell_type": "code",
   "execution_count": 10,
   "metadata": {},
   "outputs": [],
   "source": [
    "df_calls['month'] = df_calls['call_date'].dt.month"
   ]
  },
  {
   "cell_type": "markdown",
   "metadata": {},
   "source": [
    "- количество отправленных сообщений по месяцам"
   ]
  },
  {
   "cell_type": "code",
   "execution_count": 11,
   "metadata": {},
   "outputs": [],
   "source": [
    "df_messages['month'] = df_messages['message_date'].dt.month"
   ]
  },
  {
   "cell_type": "markdown",
   "metadata": {},
   "source": [
    "- объем израсходованного интернет-трафика по месяцам"
   ]
  },
  {
   "cell_type": "code",
   "execution_count": 12,
   "metadata": {},
   "outputs": [],
   "source": [
    "df_internet['month'] = df_internet['session_date'].dt.month"
   ]
  },
  {
   "cell_type": "markdown",
   "metadata": {},
   "source": [
    "- помесячную выручку с каждого пользователя"
   ]
  },
  {
   "cell_type": "markdown",
   "metadata": {},
   "source": [
    "Создадим новый датафрейм и наполним его необходимыми данными:\n",
    "- ```user_id``` - уникальный идентификатор пользователя\n",
    "- ```month``` - месяц, где ```1``` - это январь, а ```12``` - декабрь. \n",
    "- ```count_calls``` - количество звонков\n",
    "- ```calls_total_duration``` - общая продолжительность звонков\n",
    "- ```count_messages``` - количество сообщений\n",
    "- ```total_mb_used``` - количество израсходованного трафика, в мб\n"
   ]
  },
  {
   "cell_type": "code",
   "execution_count": 13,
   "metadata": {},
   "outputs": [],
   "source": [
    "df_stat = pd.DataFrame(columns= ['user_id',\n",
    "                                 'month',\n",
    "                                 'count_calls',\n",
    "                                 'calls_total_duration',\n",
    "                                 'count_messages',\n",
    "                                 'total_mb_used']\n",
    "                      )\n",
    "\n",
    "for idx in df_users['user_id']:\n",
    "    for month_x in range(1,13):\n",
    "        if ((month_x in df_calls.query('user_id == @idx')['month'].to_numpy()) or\n",
    "            (month_x in df_messages.query('user_id == @idx')['month'].to_numpy())):\n",
    "            \n",
    "            count_calls = df_calls.query('user_id == @idx and month == @month_x').shape[0]\n",
    "            total_duration_calls = df_calls.query('user_id == @idx and month == @month_x')['duration'].sum()\n",
    "            count_messages = df_messages.query('user_id == @idx and month == @month_x').shape[0]\n",
    "            total_used = df_internet.query('user_id == @idx and month == @month_x')['mb_used'].sum()\n",
    "            \n",
    "            df_stat = df_stat.append({'user_id':idx,\n",
    "                                      'month':month_x,             \n",
    "                                      'count_calls':count_calls,\n",
    "                                      'calls_total_duration':total_duration_calls,\n",
    "                                      'count_messages':count_messages,\n",
    "                                      'total_mb_used':total_used}, \n",
    "                                     ignore_index=True\n",
    "                                    )"
   ]
  },
  {
   "cell_type": "code",
   "execution_count": 14,
   "metadata": {},
   "outputs": [
    {
     "data": {
      "text/html": [
       "<div>\n",
       "<style scoped>\n",
       "    .dataframe tbody tr th:only-of-type {\n",
       "        vertical-align: middle;\n",
       "    }\n",
       "\n",
       "    .dataframe tbody tr th {\n",
       "        vertical-align: top;\n",
       "    }\n",
       "\n",
       "    .dataframe thead th {\n",
       "        text-align: right;\n",
       "    }\n",
       "</style>\n",
       "<table border=\"1\" class=\"dataframe\">\n",
       "  <thead>\n",
       "    <tr style=\"text-align: right;\">\n",
       "      <th></th>\n",
       "      <th>user_id</th>\n",
       "      <th>month</th>\n",
       "      <th>count_calls</th>\n",
       "      <th>calls_total_duration</th>\n",
       "      <th>count_messages</th>\n",
       "      <th>total_mb_used</th>\n",
       "    </tr>\n",
       "  </thead>\n",
       "  <tbody>\n",
       "    <tr>\n",
       "      <td>0</td>\n",
       "      <td>1000.0</td>\n",
       "      <td>5.0</td>\n",
       "      <td>22.0</td>\n",
       "      <td>150.06</td>\n",
       "      <td>22.0</td>\n",
       "      <td>2253.49</td>\n",
       "    </tr>\n",
       "    <tr>\n",
       "      <td>1</td>\n",
       "      <td>1000.0</td>\n",
       "      <td>6.0</td>\n",
       "      <td>43.0</td>\n",
       "      <td>158.90</td>\n",
       "      <td>60.0</td>\n",
       "      <td>23233.77</td>\n",
       "    </tr>\n",
       "    <tr>\n",
       "      <td>2</td>\n",
       "      <td>1000.0</td>\n",
       "      <td>7.0</td>\n",
       "      <td>47.0</td>\n",
       "      <td>318.80</td>\n",
       "      <td>75.0</td>\n",
       "      <td>14003.64</td>\n",
       "    </tr>\n",
       "    <tr>\n",
       "      <td>3</td>\n",
       "      <td>1000.0</td>\n",
       "      <td>8.0</td>\n",
       "      <td>52.0</td>\n",
       "      <td>389.87</td>\n",
       "      <td>81.0</td>\n",
       "      <td>14055.93</td>\n",
       "    </tr>\n",
       "    <tr>\n",
       "      <td>4</td>\n",
       "      <td>1000.0</td>\n",
       "      <td>9.0</td>\n",
       "      <td>58.0</td>\n",
       "      <td>440.14</td>\n",
       "      <td>57.0</td>\n",
       "      <td>14568.91</td>\n",
       "    </tr>\n",
       "    <tr>\n",
       "      <td>5</td>\n",
       "      <td>1000.0</td>\n",
       "      <td>10.0</td>\n",
       "      <td>57.0</td>\n",
       "      <td>328.45</td>\n",
       "      <td>73.0</td>\n",
       "      <td>14702.49</td>\n",
       "    </tr>\n",
       "    <tr>\n",
       "      <td>6</td>\n",
       "      <td>1000.0</td>\n",
       "      <td>11.0</td>\n",
       "      <td>43.0</td>\n",
       "      <td>319.04</td>\n",
       "      <td>58.0</td>\n",
       "      <td>14756.47</td>\n",
       "    </tr>\n",
       "    <tr>\n",
       "      <td>7</td>\n",
       "      <td>1000.0</td>\n",
       "      <td>12.0</td>\n",
       "      <td>46.0</td>\n",
       "      <td>312.98</td>\n",
       "      <td>70.0</td>\n",
       "      <td>9817.61</td>\n",
       "    </tr>\n",
       "    <tr>\n",
       "      <td>8</td>\n",
       "      <td>1001.0</td>\n",
       "      <td>11.0</td>\n",
       "      <td>59.0</td>\n",
       "      <td>408.12</td>\n",
       "      <td>0.0</td>\n",
       "      <td>18429.34</td>\n",
       "    </tr>\n",
       "    <tr>\n",
       "      <td>9</td>\n",
       "      <td>1001.0</td>\n",
       "      <td>12.0</td>\n",
       "      <td>63.0</td>\n",
       "      <td>391.34</td>\n",
       "      <td>0.0</td>\n",
       "      <td>14036.66</td>\n",
       "    </tr>\n",
       "  </tbody>\n",
       "</table>\n",
       "</div>"
      ],
      "text/plain": [
       "   user_id  month  count_calls  calls_total_duration  count_messages  \\\n",
       "0   1000.0    5.0         22.0                150.06            22.0   \n",
       "1   1000.0    6.0         43.0                158.90            60.0   \n",
       "2   1000.0    7.0         47.0                318.80            75.0   \n",
       "3   1000.0    8.0         52.0                389.87            81.0   \n",
       "4   1000.0    9.0         58.0                440.14            57.0   \n",
       "5   1000.0   10.0         57.0                328.45            73.0   \n",
       "6   1000.0   11.0         43.0                319.04            58.0   \n",
       "7   1000.0   12.0         46.0                312.98            70.0   \n",
       "8   1001.0   11.0         59.0                408.12             0.0   \n",
       "9   1001.0   12.0         63.0                391.34             0.0   \n",
       "\n",
       "   total_mb_used  \n",
       "0        2253.49  \n",
       "1       23233.77  \n",
       "2       14003.64  \n",
       "3       14055.93  \n",
       "4       14568.91  \n",
       "5       14702.49  \n",
       "6       14756.47  \n",
       "7        9817.61  \n",
       "8       18429.34  \n",
       "9       14036.66  "
      ]
     },
     "metadata": {},
     "output_type": "display_data"
    },
    {
     "name": "stdout",
     "output_type": "stream",
     "text": [
      "<class 'pandas.core.frame.DataFrame'>\n",
      "RangeIndex: 3213 entries, 0 to 3212\n",
      "Data columns (total 6 columns):\n",
      "user_id                 3213 non-null float64\n",
      "month                   3213 non-null float64\n",
      "count_calls             3213 non-null float64\n",
      "calls_total_duration    3213 non-null float64\n",
      "count_messages          3213 non-null float64\n",
      "total_mb_used           3213 non-null float64\n",
      "dtypes: float64(6)\n",
      "memory usage: 150.7 KB\n"
     ]
    }
   ],
   "source": [
    "review(df_stat)"
   ]
  },
  {
   "cell_type": "markdown",
   "metadata": {},
   "source": [
    "Приведем значения столбцов ```user_id```, ```month```, ```count_calls``` и ```count_messages``` к типу ```int```"
   ]
  },
  {
   "cell_type": "code",
   "execution_count": 16,
   "metadata": {},
   "outputs": [],
   "source": [
    "for column in df_stat[['user_id','month','count_calls','count_messages']]:\n",
    "    df_stat[column] = df_stat[column].astype('int')"
   ]
  },
  {
   "cell_type": "markdown",
   "metadata": {},
   "source": [
    "Добавим в таблицу значение тарифа и города."
   ]
  },
  {
   "cell_type": "code",
   "execution_count": 17,
   "metadata": {},
   "outputs": [],
   "source": [
    "df_stat = df_stat.merge(df_users[['user_id','tariff']], on = 'user_id')\n",
    "df_stat = df_stat.merge(df_users[['user_id','city']], on = 'user_id')"
   ]
  },
  {
   "cell_type": "markdown",
   "metadata": {},
   "source": [
    "Проверяем данные."
   ]
  },
  {
   "cell_type": "code",
   "execution_count": 18,
   "metadata": {},
   "outputs": [
    {
     "data": {
      "text/html": [
       "<div>\n",
       "<style scoped>\n",
       "    .dataframe tbody tr th:only-of-type {\n",
       "        vertical-align: middle;\n",
       "    }\n",
       "\n",
       "    .dataframe tbody tr th {\n",
       "        vertical-align: top;\n",
       "    }\n",
       "\n",
       "    .dataframe thead th {\n",
       "        text-align: right;\n",
       "    }\n",
       "</style>\n",
       "<table border=\"1\" class=\"dataframe\">\n",
       "  <thead>\n",
       "    <tr style=\"text-align: right;\">\n",
       "      <th></th>\n",
       "      <th>user_id</th>\n",
       "      <th>month</th>\n",
       "      <th>count_calls</th>\n",
       "      <th>calls_total_duration</th>\n",
       "      <th>count_messages</th>\n",
       "      <th>total_mb_used</th>\n",
       "      <th>tariff</th>\n",
       "      <th>city</th>\n",
       "    </tr>\n",
       "  </thead>\n",
       "  <tbody>\n",
       "    <tr>\n",
       "      <td>0</td>\n",
       "      <td>1000</td>\n",
       "      <td>5</td>\n",
       "      <td>22</td>\n",
       "      <td>150.06</td>\n",
       "      <td>22</td>\n",
       "      <td>2253.49</td>\n",
       "      <td>ultra</td>\n",
       "      <td>Краснодар</td>\n",
       "    </tr>\n",
       "    <tr>\n",
       "      <td>1</td>\n",
       "      <td>1000</td>\n",
       "      <td>6</td>\n",
       "      <td>43</td>\n",
       "      <td>158.90</td>\n",
       "      <td>60</td>\n",
       "      <td>23233.77</td>\n",
       "      <td>ultra</td>\n",
       "      <td>Краснодар</td>\n",
       "    </tr>\n",
       "    <tr>\n",
       "      <td>2</td>\n",
       "      <td>1000</td>\n",
       "      <td>7</td>\n",
       "      <td>47</td>\n",
       "      <td>318.80</td>\n",
       "      <td>75</td>\n",
       "      <td>14003.64</td>\n",
       "      <td>ultra</td>\n",
       "      <td>Краснодар</td>\n",
       "    </tr>\n",
       "    <tr>\n",
       "      <td>3</td>\n",
       "      <td>1000</td>\n",
       "      <td>8</td>\n",
       "      <td>52</td>\n",
       "      <td>389.87</td>\n",
       "      <td>81</td>\n",
       "      <td>14055.93</td>\n",
       "      <td>ultra</td>\n",
       "      <td>Краснодар</td>\n",
       "    </tr>\n",
       "    <tr>\n",
       "      <td>4</td>\n",
       "      <td>1000</td>\n",
       "      <td>9</td>\n",
       "      <td>58</td>\n",
       "      <td>440.14</td>\n",
       "      <td>57</td>\n",
       "      <td>14568.91</td>\n",
       "      <td>ultra</td>\n",
       "      <td>Краснодар</td>\n",
       "    </tr>\n",
       "    <tr>\n",
       "      <td>5</td>\n",
       "      <td>1000</td>\n",
       "      <td>10</td>\n",
       "      <td>57</td>\n",
       "      <td>328.45</td>\n",
       "      <td>73</td>\n",
       "      <td>14702.49</td>\n",
       "      <td>ultra</td>\n",
       "      <td>Краснодар</td>\n",
       "    </tr>\n",
       "    <tr>\n",
       "      <td>6</td>\n",
       "      <td>1000</td>\n",
       "      <td>11</td>\n",
       "      <td>43</td>\n",
       "      <td>319.04</td>\n",
       "      <td>58</td>\n",
       "      <td>14756.47</td>\n",
       "      <td>ultra</td>\n",
       "      <td>Краснодар</td>\n",
       "    </tr>\n",
       "    <tr>\n",
       "      <td>7</td>\n",
       "      <td>1000</td>\n",
       "      <td>12</td>\n",
       "      <td>46</td>\n",
       "      <td>312.98</td>\n",
       "      <td>70</td>\n",
       "      <td>9817.61</td>\n",
       "      <td>ultra</td>\n",
       "      <td>Краснодар</td>\n",
       "    </tr>\n",
       "    <tr>\n",
       "      <td>8</td>\n",
       "      <td>1001</td>\n",
       "      <td>11</td>\n",
       "      <td>59</td>\n",
       "      <td>408.12</td>\n",
       "      <td>0</td>\n",
       "      <td>18429.34</td>\n",
       "      <td>smart</td>\n",
       "      <td>Москва</td>\n",
       "    </tr>\n",
       "    <tr>\n",
       "      <td>9</td>\n",
       "      <td>1001</td>\n",
       "      <td>12</td>\n",
       "      <td>63</td>\n",
       "      <td>391.34</td>\n",
       "      <td>0</td>\n",
       "      <td>14036.66</td>\n",
       "      <td>smart</td>\n",
       "      <td>Москва</td>\n",
       "    </tr>\n",
       "  </tbody>\n",
       "</table>\n",
       "</div>"
      ],
      "text/plain": [
       "   user_id  month  count_calls  calls_total_duration  count_messages  \\\n",
       "0     1000      5           22                150.06              22   \n",
       "1     1000      6           43                158.90              60   \n",
       "2     1000      7           47                318.80              75   \n",
       "3     1000      8           52                389.87              81   \n",
       "4     1000      9           58                440.14              57   \n",
       "5     1000     10           57                328.45              73   \n",
       "6     1000     11           43                319.04              58   \n",
       "7     1000     12           46                312.98              70   \n",
       "8     1001     11           59                408.12               0   \n",
       "9     1001     12           63                391.34               0   \n",
       "\n",
       "   total_mb_used tariff       city  \n",
       "0        2253.49  ultra  Краснодар  \n",
       "1       23233.77  ultra  Краснодар  \n",
       "2       14003.64  ultra  Краснодар  \n",
       "3       14055.93  ultra  Краснодар  \n",
       "4       14568.91  ultra  Краснодар  \n",
       "5       14702.49  ultra  Краснодар  \n",
       "6       14756.47  ultra  Краснодар  \n",
       "7        9817.61  ultra  Краснодар  \n",
       "8       18429.34  smart     Москва  \n",
       "9       14036.66  smart     Москва  "
      ]
     },
     "metadata": {},
     "output_type": "display_data"
    },
    {
     "name": "stdout",
     "output_type": "stream",
     "text": [
      "<class 'pandas.core.frame.DataFrame'>\n",
      "Int64Index: 3213 entries, 0 to 3212\n",
      "Data columns (total 8 columns):\n",
      "user_id                 3213 non-null int64\n",
      "month                   3213 non-null int64\n",
      "count_calls             3213 non-null int64\n",
      "calls_total_duration    3213 non-null float64\n",
      "count_messages          3213 non-null int64\n",
      "total_mb_used           3213 non-null float64\n",
      "tariff                  3213 non-null object\n",
      "city                    3213 non-null object\n",
      "dtypes: float64(2), int64(4), object(2)\n",
      "memory usage: 225.9+ KB\n"
     ]
    }
   ],
   "source": [
    "review(df_stat)"
   ]
  },
  {
   "cell_type": "markdown",
   "metadata": {},
   "source": [
    "Посчитаем помесячную выручку с каждого пользователя и добавим в датафрейм ```df_stat``` столбец ```revenue``` отражающий данную информацию."
   ]
  },
  {
   "cell_type": "code",
   "execution_count": 19,
   "metadata": {},
   "outputs": [],
   "source": [
    "def get_revenue(row):\n",
    "    \"\"\"Функция рассчитывающая помесячную выручку компании с каждого пользователя\"\"\"\n",
    "    def get_extra(dict_of_param):\n",
    "        \"\"\"Функция рассчитывающая минуты, потраченные абонентом сверх базового пакета\"\"\"\n",
    "        local_extra_min = 0\n",
    "        local_extra_sms = 0\n",
    "        local_extra_gb = 0\n",
    "        if row['calls_total_duration'] > dict_of_param['calls_total_duration']: \n",
    "            local_extra_min = row['calls_total_duration'] - dict_of_param['calls_total_duration']\n",
    "        if row['count_messages'] > dict_of_param['count_messages']:\n",
    "            local_extra_sms = row['count_messages'] - dict_of_param['count_messages']\n",
    "        if row['total_mb_used'] > dict_of_param['total_mb_used']:\n",
    "            local_extra_gb = (row['total_mb_used'] - dict_of_param['total_mb_used'])/1024\n",
    "        return local_extra_min, local_extra_sms, local_extra_gb   \n",
    "    \n",
    "    ultra_param = {\n",
    "        'calls_total_duration':3000,\n",
    "        'count_messages': 1000,\n",
    "        'total_mb_used': 30 * 1024\n",
    "    }\n",
    "    smart_param = {\n",
    "        'calls_total_duration':500,\n",
    "        'count_messages': 50,\n",
    "        'total_mb_used': 15 * 1024\n",
    "    }\n",
    "            \n",
    "    if row['tariff'] == 'ultra':\n",
    "        revenue = 1950\n",
    "        extra_min, extra_sms, extra_gb = get_extra(ultra_param)\n",
    "        revenue += extra_min + extra_sms + extra_gb * 150     \n",
    "    elif row['tariff'] == 'smart':\n",
    "        revenue = 550\n",
    "        extra_min, extra_sms, extra_gb = get_extra(smart_param)\n",
    "        revenue += 3 * extra_min + 3* extra_sms + extra_gb * 200 \n",
    "    return revenue\n",
    "df_stat['revenue'] = df_stat.apply(get_revenue, axis = 1).round(2)"
   ]
  },
  {
   "cell_type": "markdown",
   "metadata": {},
   "source": [
    "Проверяем данные."
   ]
  },
  {
   "cell_type": "code",
   "execution_count": 20,
   "metadata": {},
   "outputs": [
    {
     "data": {
      "text/html": [
       "<div>\n",
       "<style scoped>\n",
       "    .dataframe tbody tr th:only-of-type {\n",
       "        vertical-align: middle;\n",
       "    }\n",
       "\n",
       "    .dataframe tbody tr th {\n",
       "        vertical-align: top;\n",
       "    }\n",
       "\n",
       "    .dataframe thead th {\n",
       "        text-align: right;\n",
       "    }\n",
       "</style>\n",
       "<table border=\"1\" class=\"dataframe\">\n",
       "  <thead>\n",
       "    <tr style=\"text-align: right;\">\n",
       "      <th></th>\n",
       "      <th>user_id</th>\n",
       "      <th>month</th>\n",
       "      <th>count_calls</th>\n",
       "      <th>calls_total_duration</th>\n",
       "      <th>count_messages</th>\n",
       "      <th>total_mb_used</th>\n",
       "      <th>tariff</th>\n",
       "      <th>city</th>\n",
       "      <th>revenue</th>\n",
       "    </tr>\n",
       "  </thead>\n",
       "  <tbody>\n",
       "    <tr>\n",
       "      <td>0</td>\n",
       "      <td>1000</td>\n",
       "      <td>5</td>\n",
       "      <td>22</td>\n",
       "      <td>150.06</td>\n",
       "      <td>22</td>\n",
       "      <td>2253.49</td>\n",
       "      <td>ultra</td>\n",
       "      <td>Краснодар</td>\n",
       "      <td>1950.00</td>\n",
       "    </tr>\n",
       "    <tr>\n",
       "      <td>1</td>\n",
       "      <td>1000</td>\n",
       "      <td>6</td>\n",
       "      <td>43</td>\n",
       "      <td>158.90</td>\n",
       "      <td>60</td>\n",
       "      <td>23233.77</td>\n",
       "      <td>ultra</td>\n",
       "      <td>Краснодар</td>\n",
       "      <td>1950.00</td>\n",
       "    </tr>\n",
       "    <tr>\n",
       "      <td>2</td>\n",
       "      <td>1000</td>\n",
       "      <td>7</td>\n",
       "      <td>47</td>\n",
       "      <td>318.80</td>\n",
       "      <td>75</td>\n",
       "      <td>14003.64</td>\n",
       "      <td>ultra</td>\n",
       "      <td>Краснодар</td>\n",
       "      <td>1950.00</td>\n",
       "    </tr>\n",
       "    <tr>\n",
       "      <td>3</td>\n",
       "      <td>1000</td>\n",
       "      <td>8</td>\n",
       "      <td>52</td>\n",
       "      <td>389.87</td>\n",
       "      <td>81</td>\n",
       "      <td>14055.93</td>\n",
       "      <td>ultra</td>\n",
       "      <td>Краснодар</td>\n",
       "      <td>1950.00</td>\n",
       "    </tr>\n",
       "    <tr>\n",
       "      <td>4</td>\n",
       "      <td>1000</td>\n",
       "      <td>9</td>\n",
       "      <td>58</td>\n",
       "      <td>440.14</td>\n",
       "      <td>57</td>\n",
       "      <td>14568.91</td>\n",
       "      <td>ultra</td>\n",
       "      <td>Краснодар</td>\n",
       "      <td>1950.00</td>\n",
       "    </tr>\n",
       "    <tr>\n",
       "      <td>5</td>\n",
       "      <td>1000</td>\n",
       "      <td>10</td>\n",
       "      <td>57</td>\n",
       "      <td>328.45</td>\n",
       "      <td>73</td>\n",
       "      <td>14702.49</td>\n",
       "      <td>ultra</td>\n",
       "      <td>Краснодар</td>\n",
       "      <td>1950.00</td>\n",
       "    </tr>\n",
       "    <tr>\n",
       "      <td>6</td>\n",
       "      <td>1000</td>\n",
       "      <td>11</td>\n",
       "      <td>43</td>\n",
       "      <td>319.04</td>\n",
       "      <td>58</td>\n",
       "      <td>14756.47</td>\n",
       "      <td>ultra</td>\n",
       "      <td>Краснодар</td>\n",
       "      <td>1950.00</td>\n",
       "    </tr>\n",
       "    <tr>\n",
       "      <td>7</td>\n",
       "      <td>1000</td>\n",
       "      <td>12</td>\n",
       "      <td>46</td>\n",
       "      <td>312.98</td>\n",
       "      <td>70</td>\n",
       "      <td>9817.61</td>\n",
       "      <td>ultra</td>\n",
       "      <td>Краснодар</td>\n",
       "      <td>1950.00</td>\n",
       "    </tr>\n",
       "    <tr>\n",
       "      <td>8</td>\n",
       "      <td>1001</td>\n",
       "      <td>11</td>\n",
       "      <td>59</td>\n",
       "      <td>408.12</td>\n",
       "      <td>0</td>\n",
       "      <td>18429.34</td>\n",
       "      <td>smart</td>\n",
       "      <td>Москва</td>\n",
       "      <td>1149.48</td>\n",
       "    </tr>\n",
       "    <tr>\n",
       "      <td>9</td>\n",
       "      <td>1001</td>\n",
       "      <td>12</td>\n",
       "      <td>63</td>\n",
       "      <td>391.34</td>\n",
       "      <td>0</td>\n",
       "      <td>14036.66</td>\n",
       "      <td>smart</td>\n",
       "      <td>Москва</td>\n",
       "      <td>550.00</td>\n",
       "    </tr>\n",
       "  </tbody>\n",
       "</table>\n",
       "</div>"
      ],
      "text/plain": [
       "   user_id  month  count_calls  calls_total_duration  count_messages  \\\n",
       "0     1000      5           22                150.06              22   \n",
       "1     1000      6           43                158.90              60   \n",
       "2     1000      7           47                318.80              75   \n",
       "3     1000      8           52                389.87              81   \n",
       "4     1000      9           58                440.14              57   \n",
       "5     1000     10           57                328.45              73   \n",
       "6     1000     11           43                319.04              58   \n",
       "7     1000     12           46                312.98              70   \n",
       "8     1001     11           59                408.12               0   \n",
       "9     1001     12           63                391.34               0   \n",
       "\n",
       "   total_mb_used tariff       city  revenue  \n",
       "0        2253.49  ultra  Краснодар  1950.00  \n",
       "1       23233.77  ultra  Краснодар  1950.00  \n",
       "2       14003.64  ultra  Краснодар  1950.00  \n",
       "3       14055.93  ultra  Краснодар  1950.00  \n",
       "4       14568.91  ultra  Краснодар  1950.00  \n",
       "5       14702.49  ultra  Краснодар  1950.00  \n",
       "6       14756.47  ultra  Краснодар  1950.00  \n",
       "7        9817.61  ultra  Краснодар  1950.00  \n",
       "8       18429.34  smart     Москва  1149.48  \n",
       "9       14036.66  smart     Москва   550.00  "
      ]
     },
     "metadata": {},
     "output_type": "display_data"
    },
    {
     "name": "stdout",
     "output_type": "stream",
     "text": [
      "<class 'pandas.core.frame.DataFrame'>\n",
      "Int64Index: 3213 entries, 0 to 3212\n",
      "Data columns (total 9 columns):\n",
      "user_id                 3213 non-null int64\n",
      "month                   3213 non-null int64\n",
      "count_calls             3213 non-null int64\n",
      "calls_total_duration    3213 non-null float64\n",
      "count_messages          3213 non-null int64\n",
      "total_mb_used           3213 non-null float64\n",
      "tariff                  3213 non-null object\n",
      "city                    3213 non-null object\n",
      "revenue                 3213 non-null float64\n",
      "dtypes: float64(3), int64(4), object(2)\n",
      "memory usage: 251.0+ KB\n"
     ]
    }
   ],
   "source": [
    "review(df_stat)"
   ]
  },
  {
   "cell_type": "markdown",
   "metadata": {},
   "source": [
    "**Вывод**"
   ]
  },
  {
   "cell_type": "markdown",
   "metadata": {},
   "source": [
    "На основании первичных данных был собран датафрейм со сл. информацией:\n",
    "- ```user_id``` - уникальный идентификатор пользователя;\n",
    "- ```month``` - месяц, где ```1``` - это январь, а ```12``` - декабрь;\n",
    "- ```count_calls``` - количество звонков;\n",
    "- ```calls_total_duration``` - общая продолжительность звонков;\n",
    "- ```count_messages``` - количество сообщений;\n",
    "- ```total_mb_used``` - количество израсходованного трафика, в мб;\n",
    "- ```tariff``` - название тарифного плана;\n",
    "- ```city``` - город проживание пользователя;\n",
    "- ```revenue``` - помесячная выручка."
   ]
  },
  {
   "cell_type": "markdown",
   "metadata": {},
   "source": [
    "## Проанализируем данные."
   ]
  },
  {
   "cell_type": "markdown",
   "metadata": {},
   "source": [
    "Посчитаем сколько минут разговора, сколько сообщений и какой объём интернет-трафика требуется пользователям каждого тарифа в месяц. Определим медиану и среднее количество, дисперсию и стандартное отклонение"
   ]
  },
  {
   "cell_type": "code",
   "execution_count": 22,
   "metadata": {},
   "outputs": [
    {
     "data": {
      "text/html": [
       "<div>\n",
       "<style scoped>\n",
       "    .dataframe tbody tr th:only-of-type {\n",
       "        vertical-align: middle;\n",
       "    }\n",
       "\n",
       "    .dataframe tbody tr th {\n",
       "        vertical-align: top;\n",
       "    }\n",
       "\n",
       "    .dataframe thead tr th {\n",
       "        text-align: left;\n",
       "    }\n",
       "\n",
       "    .dataframe thead tr:last-of-type th {\n",
       "        text-align: right;\n",
       "    }\n",
       "</style>\n",
       "<table border=\"1\" class=\"dataframe\">\n",
       "  <thead>\n",
       "    <tr>\n",
       "      <th></th>\n",
       "      <th colspan=\"3\" halign=\"left\">median</th>\n",
       "      <th colspan=\"3\" halign=\"left\">mean</th>\n",
       "      <th colspan=\"3\" halign=\"left\">var</th>\n",
       "      <th colspan=\"3\" halign=\"left\">std</th>\n",
       "    </tr>\n",
       "    <tr>\n",
       "      <th></th>\n",
       "      <th>calls_total_duration</th>\n",
       "      <th>count_messages</th>\n",
       "      <th>total_mb_used</th>\n",
       "      <th>calls_total_duration</th>\n",
       "      <th>count_messages</th>\n",
       "      <th>total_mb_used</th>\n",
       "      <th>calls_total_duration</th>\n",
       "      <th>count_messages</th>\n",
       "      <th>total_mb_used</th>\n",
       "      <th>calls_total_duration</th>\n",
       "      <th>count_messages</th>\n",
       "      <th>total_mb_used</th>\n",
       "    </tr>\n",
       "    <tr>\n",
       "      <th>tariff</th>\n",
       "      <th></th>\n",
       "      <th></th>\n",
       "      <th></th>\n",
       "      <th></th>\n",
       "      <th></th>\n",
       "      <th></th>\n",
       "      <th></th>\n",
       "      <th></th>\n",
       "      <th></th>\n",
       "      <th></th>\n",
       "      <th></th>\n",
       "      <th></th>\n",
       "    </tr>\n",
       "  </thead>\n",
       "  <tbody>\n",
       "    <tr>\n",
       "      <td>smart</td>\n",
       "      <td>397.98</td>\n",
       "      <td>28</td>\n",
       "      <td>16506.84</td>\n",
       "      <td>394.427026</td>\n",
       "      <td>33.384029</td>\n",
       "      <td>16208.386990</td>\n",
       "      <td>32386.395979</td>\n",
       "      <td>796.812958</td>\n",
       "      <td>3.446250e+07</td>\n",
       "      <td>179.962207</td>\n",
       "      <td>28.227876</td>\n",
       "      <td>5870.476681</td>\n",
       "    </tr>\n",
       "    <tr>\n",
       "      <td>ultra</td>\n",
       "      <td>488.28</td>\n",
       "      <td>38</td>\n",
       "      <td>19311.93</td>\n",
       "      <td>497.573374</td>\n",
       "      <td>49.413618</td>\n",
       "      <td>19488.051169</td>\n",
       "      <td>89782.393134</td>\n",
       "      <td>2285.109519</td>\n",
       "      <td>1.014893e+08</td>\n",
       "      <td>299.637102</td>\n",
       "      <td>47.802819</td>\n",
       "      <td>10074.189914</td>\n",
       "    </tr>\n",
       "  </tbody>\n",
       "</table>\n",
       "</div>"
      ],
      "text/plain": [
       "                     median                                              mean  \\\n",
       "       calls_total_duration count_messages total_mb_used calls_total_duration   \n",
       "tariff                                                                          \n",
       "smart                397.98             28      16506.84           394.427026   \n",
       "ultra                488.28             38      19311.93           497.573374   \n",
       "\n",
       "                                                     var                 \\\n",
       "       count_messages total_mb_used calls_total_duration count_messages   \n",
       "tariff                                                                    \n",
       "smart       33.384029  16208.386990         32386.395979     796.812958   \n",
       "ultra       49.413618  19488.051169         89782.393134    2285.109519   \n",
       "\n",
       "                                      std                               \n",
       "       total_mb_used calls_total_duration count_messages total_mb_used  \n",
       "tariff                                                                  \n",
       "smart   3.446250e+07           179.962207      28.227876   5870.476681  \n",
       "ultra   1.014893e+08           299.637102      47.802819  10074.189914  "
      ]
     },
     "execution_count": 22,
     "metadata": {},
     "output_type": "execute_result"
    }
   ],
   "source": [
    "df_stat.pivot_table(index = 'tariff', \n",
    "                    values = ['calls_total_duration',\n",
    "                              'count_messages',\n",
    "                              'total_mb_used'], \n",
    "                    aggfunc = ['median',\n",
    "                               'mean',\n",
    "                               'var',\n",
    "                               'std']\n",
    "                   )"
   ]
  },
  {
   "cell_type": "code",
   "execution_count": 23,
   "metadata": {},
   "outputs": [
    {
     "data": {
      "image/png": "[encoded data removed]",
      "text/plain": [
       "<Figure size 1080x432 with 1 Axes>"
      ]
     },
     "metadata": {
      "needs_background": "light"
     },
     "output_type": "display_data"
    },
    {
     "data": {
      "image/png": "[encoded data removed]",
      "text/plain": [
       "<Figure size 1080x432 with 1 Axes>"
      ]
     },
     "metadata": {
      "needs_background": "light"
     },
     "output_type": "display_data"
    },
    {
     "data": {
      "image/png": "[encoded data removed]",
      "text/plain": [
       "<Figure size 1080x432 with 1 Axes>"
      ]
     },
     "metadata": {
      "needs_background": "light"
     },
     "output_type": "display_data"
    }
   ],
   "source": [
    "list_of_columns=['calls_total_duration','count_messages','total_mb_used']\n",
    "\n",
    "tariffs = ['ultra','smart']\n",
    "for column in list_of_columns:\n",
    "        df_stat.loc[df_stat.loc[:,'tariff'] == 'smart'][column].plot(\n",
    "            kind = 'hist',\n",
    "            bins = 30,\n",
    "            label = 'smart', \n",
    "            figsize = (15,6),\n",
    "            grid=True\n",
    "        )\n",
    "        df_stat.loc[df_stat.loc[:,'tariff'] == \"ultra\"][column].plot(\n",
    "            kind = 'hist',\n",
    "            bins = 30,\n",
    "            alpha =0.7,\n",
    "            label = 'ultra',\n",
    "            figsize = (15,6),\n",
    "            grid=True\n",
    "        )\n",
    "        plt.title(column)\n",
    "        plt.xlabel(column)\n",
    "        plt.ylabel('users')\n",
    "        plt.legend()\n",
    "        plt.show()"
   ]
  },
  {
   "cell_type": "markdown",
   "metadata": {},
   "source": [
    "Определим медиану и среднее количество для помесячной выручки и посмотрим на гистограмму распределения."
   ]
  },
  {
   "cell_type": "code",
   "execution_count": 24,
   "metadata": {},
   "outputs": [
    {
     "data": {
      "text/html": [
       "<div>\n",
       "<style scoped>\n",
       "    .dataframe tbody tr th:only-of-type {\n",
       "        vertical-align: middle;\n",
       "    }\n",
       "\n",
       "    .dataframe tbody tr th {\n",
       "        vertical-align: top;\n",
       "    }\n",
       "\n",
       "    .dataframe thead tr th {\n",
       "        text-align: left;\n",
       "    }\n",
       "\n",
       "    .dataframe thead tr:last-of-type th {\n",
       "        text-align: right;\n",
       "    }\n",
       "</style>\n",
       "<table border=\"1\" class=\"dataframe\">\n",
       "  <thead>\n",
       "    <tr>\n",
       "      <th></th>\n",
       "      <th>median</th>\n",
       "      <th>mean</th>\n",
       "    </tr>\n",
       "    <tr>\n",
       "      <th></th>\n",
       "      <th>revenue</th>\n",
       "      <th>revenue</th>\n",
       "    </tr>\n",
       "    <tr>\n",
       "      <th>tariff</th>\n",
       "      <th></th>\n",
       "      <th></th>\n",
       "    </tr>\n",
       "  </thead>\n",
       "  <tbody>\n",
       "    <tr>\n",
       "      <td>smart</td>\n",
       "      <td>925.58</td>\n",
       "      <td>1197.628600</td>\n",
       "    </tr>\n",
       "    <tr>\n",
       "      <td>ultra</td>\n",
       "      <td>1950.00</td>\n",
       "      <td>2059.980528</td>\n",
       "    </tr>\n",
       "  </tbody>\n",
       "</table>\n",
       "</div>"
      ],
      "text/plain": [
       "         median         mean\n",
       "        revenue      revenue\n",
       "tariff                      \n",
       "smart    925.58  1197.628600\n",
       "ultra   1950.00  2059.980528"
      ]
     },
     "execution_count": 24,
     "metadata": {},
     "output_type": "execute_result"
    }
   ],
   "source": [
    "df_stat.pivot_table(index = 'tariff', \n",
    "                    values = 'revenue', \n",
    "                    aggfunc = ['median',\n",
    "                               'mean'\n",
    "                              ]\n",
    "                   )"
   ]
  },
  {
   "cell_type": "code",
   "execution_count": 25,
   "metadata": {
    "scrolled": true
   },
   "outputs": [
    {
     "data": {
      "image/png": "[encoded data removed]",
      "text/plain": [
       "<Figure size 1080x432 with 1 Axes>"
      ]
     },
     "metadata": {
      "needs_background": "light"
     },
     "output_type": "display_data"
    }
   ],
   "source": [
    "df_stat.loc[df_stat.loc[:,'tariff'] == 'smart']['revenue'].plot(\n",
    "    kind = 'hist',\n",
    "    bins = 30,\n",
    "    label = 'smart', \n",
    "    figsize = (15,6),\n",
    "    grid=True\n",
    ")\n",
    "df_stat.loc[df_stat.loc[:,'tariff'] == \"ultra\"]['revenue'].plot(\n",
    "    kind = 'hist',\n",
    "    bins = 30,\n",
    "    alpha =0.7,\n",
    "    label = 'ultra',\n",
    "    figsize = (15,6),\n",
    "    grid=True\n",
    ")\n",
    "plt.title(column)\n",
    "plt.xlabel(column)\n",
    "plt.ylabel('users')\n",
    "plt.legend()\n",
    "plt.show()"
   ]
  },
  {
   "cell_type": "markdown",
   "metadata": {},
   "source": [
    "**Вывод**"
   ]
  },
  {
   "cell_type": "markdown",
   "metadata": {},
   "source": [
    "- у тарифа ```Ультра``` наборы данных скошены вправо;\n",
    "- у тарифа ```Смарт``` - наборы данных по общей продолжительности звонков - ```calls_total_duration``` и по количеству израсходованного трафика - ```total_mb_used``` - влево. Это так же подтверждают данные медианы и среднего, приведенные в сводной таблице - значения медианы в тарифе ```Смарт``` по столбцам ```calls_total_duration``` и ```total_mb_used``` выше среднего, следовательно наборы данных скошены влево;\n",
    "- в тарифе ```Смарт``` чаще уходят за рамки тарифного пакета;\n",
    "- в тарифе ```Ультра``` медианные и средние значения выше, чем в тарифе ```Смарт```, следовательно данных тариф приносит больше выручки."
   ]
  },
  {
   "cell_type": "markdown",
   "metadata": {},
   "source": [
    "## Проверим гипотезы."
   ]
  },
  {
   "cell_type": "markdown",
   "metadata": {},
   "source": [
    "### Первая гипотеза"
   ]
  },
  {
   "cell_type": "markdown",
   "metadata": {},
   "source": [
    "- средняя выручка пользователей тарифов ```Ультра``` и ```Смарт``` различаются."
   ]
  },
  {
   "cell_type": "markdown",
   "metadata": {},
   "source": [
    "Гипотеза о равенстве средних двух генеральных совокупностей, следовательно:"
   ]
  },
  {
   "cell_type": "markdown",
   "metadata": {},
   "source": [
    "**Нулевая гипотеза:** средняя выручка пользователей тарифов ```Ультра``` и ```Смарт``` равны."
   ]
  },
  {
   "cell_type": "markdown",
   "metadata": {},
   "source": [
    "**Альтернативная гипотеза:** средняя выручка пользователей тарифов ```Ультра``` и ```Смарт``` различается."
   ]
  },
  {
   "cell_type": "markdown",
   "metadata": {},
   "source": [
    "Проверим нулевую гипотезу."
   ]
  },
  {
   "cell_type": "code",
   "execution_count": 22,
   "metadata": {},
   "outputs": [
    {
     "name": "stdout",
     "output_type": "stream",
     "text": [
      "p-значение: 2.9216933424115963e-213\n",
      "Отвергаем нулевую гипотезу\n"
     ]
    }
   ],
   "source": [
    "alpha = .05\n",
    "revenue_ultra = df_stat.loc[df_stat.loc[:,'tariff'] == 'ultra']['revenue']\n",
    "revenue_smart = df_stat.loc[df_stat.loc[:,'tariff'] == 'smart']['revenue']\n",
    "result = st.ttest_ind(revenue_ultra, revenue_smart)\n",
    "prob = result.pvalue\n",
    "print('p-значение:', prob)\n",
    "if prob < alpha:\n",
    "    print(\"Отвергаем нулевую гипотезу\")\n",
    "else:\n",
    "    print(\"Не получилось нулевую гипотезу\")\n",
    "    "
   ]
  },
  {
   "cell_type": "markdown",
   "metadata": {},
   "source": [
    "**Вывод**"
   ]
  },
  {
   "cell_type": "markdown",
   "metadata": {},
   "source": [
    "Очень низкое p-значение/значение вероятности - средняя выручка пользователей тарифов Ультра и Смарт различается - **отвергаем нулевую гипотезу**."
   ]
  },
  {
   "cell_type": "markdown",
   "metadata": {},
   "source": [
    "### Гипотеза №2"
   ]
  },
  {
   "cell_type": "markdown",
   "metadata": {},
   "source": [
    "- средняя выручка пользователей из Москвы отличается от выручки пользователей из других регионов."
   ]
  },
  {
   "cell_type": "markdown",
   "metadata": {},
   "source": [
    "Следовательно:"
   ]
  },
  {
   "cell_type": "markdown",
   "metadata": {},
   "source": [
    "**Нулевая гипотеза:** средняя выручка пользователей из Москвы равна выручке пользователей из других регионов."
   ]
  },
  {
   "cell_type": "markdown",
   "metadata": {},
   "source": [
    "**Альтернативная гипотеза:** средняя выручка пользователей из Москвы отличается от выручки пользователей из других регионов."
   ]
  },
  {
   "cell_type": "markdown",
   "metadata": {},
   "source": [
    "Проверим нулевую гипотезу."
   ]
  },
  {
   "cell_type": "code",
   "execution_count": 26,
   "metadata": {},
   "outputs": [
    {
     "name": "stdout",
     "output_type": "stream",
     "text": [
      "p-значение: 0.4248270909723967\n",
      "Не получилось отвергнуть нулевую гипотезу\n"
     ]
    }
   ],
   "source": [
    "alpha = .05\n",
    "city_moscow = df_stat.loc[df_stat.loc[:,'city'] == 'Москва']['revenue']\n",
    "city_other = df_stat.loc[df_stat.loc[:,'city'] != 'Москва']['revenue']\n",
    "result_city = st.ttest_ind(city_moscow, city_other) \n",
    "prob_city = result_city.pvalue\n",
    "print('p-значение:', prob_city)\n",
    "if prob_city < alpha:\n",
    "    print(\"Отвергаем нулевую гипотезу\")\n",
    "else:\n",
    "    print(\"Не получилось отвергнуть нулевую гипотезу\")"
   ]
  },
  {
   "cell_type": "markdown",
   "metadata": {},
   "source": [
    "**Вывод**"
   ]
  },
  {
   "cell_type": "markdown",
   "metadata": {},
   "source": [
    "Высокое p-значение/значение вероятности - cредняя выручка пользователей из Москвы близка к равной выручке пользователей из других регионов - **не получилось отвергнуть нулевую гипотезу**."
   ]
  },
  {
   "cell_type": "markdown",
   "metadata": {},
   "source": [
    "## Общий вывод."
   ]
  },
  {
   "cell_type": "markdown",
   "metadata": {},
   "source": [
    "- в целом данные приходят без артефактов и достаточно чистые.\n",
    "- на основании медианных и среднех значение выручки можно сделать вывод что тариф ```Ультра``` приносит в сумме большую выручку.\n",
    "- средняя выручка пользователей тарифов ```Ультра``` и ```Смарт``` не может быть равной.\n",
    "- средняя выручка пользователей из Москвы близка к равной выручке пользователей из других регионов.\n",
    "- рекламный бюджет выгоднее всего перераспределить в пользу тарифа ```Ультра```, несмотря на то, что его пользователи меньше выходят за рамки тарифного пакета, в отличие от абонентов тарифа ```Смарт```. \n"
   ]
  }
 ],
 "metadata": {
  "ExecuteTimeLog": [
   {
    "duration": 651,
    "start_time": "2022-02-07T06:58:22.168Z"
   },
   {
    "duration": 3,
    "start_time": "2022-02-07T06:58:29.248Z"
   },
   {
    "duration": 168,
    "start_time": "2022-02-07T06:59:00.129Z"
   },
   {
    "duration": 169,
    "start_time": "2022-02-07T06:59:03.809Z"
   },
   {
    "duration": 140,
    "start_time": "2022-02-07T06:59:12.296Z"
   },
   {
    "duration": 142,
    "start_time": "2022-02-07T06:59:37.608Z"
   },
   {
    "duration": 140,
    "start_time": "2022-02-07T07:00:18.288Z"
   },
   {
    "duration": 126,
    "start_time": "2022-02-07T07:00:36.649Z"
   },
   {
    "duration": 720,
    "start_time": "2022-02-07T07:12:04.489Z"
   },
   {
    "duration": 107,
    "start_time": "2022-02-07T07:12:08.449Z"
   },
   {
    "duration": 155,
    "start_time": "2022-02-07T07:12:24.343Z"
   },
   {
    "duration": 157,
    "start_time": "2022-02-07T07:12:35.368Z"
   },
   {
    "duration": 151,
    "start_time": "2022-02-07T07:12:43.329Z"
   },
   {
    "duration": 156,
    "start_time": "2022-02-07T07:12:48.816Z"
   },
   {
    "duration": 1405,
    "start_time": "2022-02-07T07:13:02.529Z"
   },
   {
    "duration": 173,
    "start_time": "2022-02-07T07:13:19.049Z"
   },
   {
    "duration": 168,
    "start_time": "2022-02-07T07:13:26.885Z"
   },
   {
    "duration": 159,
    "start_time": "2022-02-07T07:13:31.490Z"
   },
   {
    "duration": 3,
    "start_time": "2022-02-07T07:13:48.013Z"
   },
   {
    "duration": 153,
    "start_time": "2022-02-07T07:13:52.689Z"
   },
   {
    "duration": 141,
    "start_time": "2022-02-07T07:13:57.827Z"
   },
   {
    "duration": 142,
    "start_time": "2022-02-07T07:14:00.849Z"
   },
   {
    "duration": 171,
    "start_time": "2022-02-07T07:14:14.097Z"
   },
   {
    "duration": 135,
    "start_time": "2022-02-07T07:14:27.541Z"
   },
   {
    "duration": 135,
    "start_time": "2022-02-07T07:14:46.320Z"
   },
   {
    "duration": 136,
    "start_time": "2022-02-07T07:14:51.290Z"
   },
   {
    "duration": 140,
    "start_time": "2022-02-07T07:15:08.850Z"
   },
   {
    "duration": 153,
    "start_time": "2022-02-07T07:15:20.769Z"
   },
   {
    "duration": 161,
    "start_time": "2022-02-07T07:15:37.529Z"
   },
   {
    "duration": 168,
    "start_time": "2022-02-07T07:15:47.009Z"
   },
   {
    "duration": 171,
    "start_time": "2022-02-07T07:16:06.471Z"
   },
   {
    "duration": 166,
    "start_time": "2022-02-07T07:16:21.260Z"
   },
   {
    "duration": 167,
    "start_time": "2022-02-07T07:16:27.789Z"
   },
   {
    "duration": 708,
    "start_time": "2022-02-07T07:16:38.610Z"
   },
   {
    "duration": 766,
    "start_time": "2022-02-07T07:17:06.729Z"
   },
   {
    "duration": 194,
    "start_time": "2022-02-07T07:17:11.411Z"
   },
   {
    "duration": 150,
    "start_time": "2022-02-07T07:17:32.888Z"
   },
   {
    "duration": 171,
    "start_time": "2022-02-07T07:18:01.505Z"
   },
   {
    "duration": 187,
    "start_time": "2022-02-07T07:18:11.208Z"
   },
   {
    "duration": 176,
    "start_time": "2022-02-07T07:18:35.849Z"
   },
   {
    "duration": 146,
    "start_time": "2022-02-07T07:18:40.210Z"
   },
   {
    "duration": 173,
    "start_time": "2022-02-07T07:19:57.039Z"
   },
   {
    "duration": 173,
    "start_time": "2022-02-07T07:20:03.217Z"
   },
   {
    "duration": 172,
    "start_time": "2022-02-07T07:21:02.210Z"
   },
   {
    "duration": 113,
    "start_time": "2022-02-07T07:21:38.089Z"
   },
   {
    "duration": 178,
    "start_time": "2022-02-07T07:21:50.811Z"
   },
   {
    "duration": 185,
    "start_time": "2022-02-07T07:22:01.210Z"
   },
   {
    "duration": 174,
    "start_time": "2022-02-07T07:22:26.090Z"
   },
   {
    "duration": 168,
    "start_time": "2022-02-07T07:22:34.296Z"
   },
   {
    "duration": 173,
    "start_time": "2022-02-07T07:22:37.848Z"
   },
   {
    "duration": 149,
    "start_time": "2022-02-07T07:22:43.539Z"
   },
   {
    "duration": 177,
    "start_time": "2022-02-07T07:22:54.740Z"
   },
   {
    "duration": 182,
    "start_time": "2022-02-07T07:23:18.051Z"
   },
   {
    "duration": 155,
    "start_time": "2022-02-07T07:23:20.436Z"
   },
   {
    "duration": 111,
    "start_time": "2022-02-07T07:23:51.987Z"
   },
   {
    "duration": 45,
    "start_time": "2022-02-07T07:24:23.208Z"
   },
   {
    "duration": 51,
    "start_time": "2022-02-07T07:25:02.808Z"
   },
   {
    "duration": 701,
    "start_time": "2022-02-07T07:26:15.528Z"
   },
   {
    "duration": 172,
    "start_time": "2022-02-07T07:26:22.689Z"
   },
   {
    "duration": 4,
    "start_time": "2022-02-07T07:37:03.450Z"
   },
   {
    "duration": 6,
    "start_time": "2022-02-07T07:37:18.548Z"
   },
   {
    "duration": 352,
    "start_time": "2022-02-07T07:46:45.249Z"
   },
   {
    "duration": 171,
    "start_time": "2022-02-07T07:46:47.374Z"
   },
   {
    "duration": 150,
    "start_time": "2022-02-07T07:46:48.495Z"
   },
   {
    "duration": 100,
    "start_time": "2022-02-07T07:46:49.057Z"
   },
   {
    "duration": 46,
    "start_time": "2022-02-07T07:46:49.593Z"
   },
   {
    "duration": 51,
    "start_time": "2022-02-07T07:46:50.123Z"
   },
   {
    "duration": 333,
    "start_time": "2022-02-07T07:51:19.271Z"
   },
   {
    "duration": 3,
    "start_time": "2022-02-07T07:51:38.910Z"
   },
   {
    "duration": 3,
    "start_time": "2022-02-07T07:51:46.852Z"
   },
   {
    "duration": 57,
    "start_time": "2022-02-07T08:00:04.221Z"
   },
   {
    "duration": 22,
    "start_time": "2022-02-07T08:00:17.393Z"
   },
   {
    "duration": 999,
    "start_time": "2022-02-07T08:00:42.501Z"
   },
   {
    "duration": 192,
    "start_time": "2022-02-07T08:00:43.501Z"
   },
   {
    "duration": 163,
    "start_time": "2022-02-07T08:00:43.788Z"
   },
   {
    "duration": 102,
    "start_time": "2022-02-07T08:00:44.291Z"
   },
   {
    "duration": 49,
    "start_time": "2022-02-07T08:00:44.788Z"
   },
   {
    "duration": 50,
    "start_time": "2022-02-07T08:00:47.302Z"
   },
   {
    "duration": 64,
    "start_time": "2022-02-07T08:00:50.279Z"
   },
   {
    "duration": 25,
    "start_time": "2022-02-07T08:00:59.201Z"
   },
   {
    "duration": 14,
    "start_time": "2022-02-07T08:04:00.419Z"
   },
   {
    "duration": 22,
    "start_time": "2022-02-07T08:04:08.519Z"
   },
   {
    "duration": 14,
    "start_time": "2022-02-07T08:05:40.666Z"
   },
   {
    "duration": 6,
    "start_time": "2022-02-07T08:08:04.943Z"
   },
   {
    "duration": 4,
    "start_time": "2022-02-07T08:10:42.599Z"
   },
   {
    "duration": 4,
    "start_time": "2022-02-07T08:10:49.459Z"
   },
   {
    "duration": 4,
    "start_time": "2022-02-07T08:11:39.612Z"
   },
   {
    "duration": 4,
    "start_time": "2022-02-07T08:13:29.538Z"
   },
   {
    "duration": 3,
    "start_time": "2022-02-07T08:13:35.199Z"
   },
   {
    "duration": 4,
    "start_time": "2022-02-07T08:13:37.207Z"
   },
   {
    "duration": 384,
    "start_time": "2022-02-07T08:13:39.913Z"
   },
   {
    "duration": 5,
    "start_time": "2022-02-07T08:13:42.232Z"
   },
   {
    "duration": 302,
    "start_time": "2022-02-07T08:14:43.669Z"
   },
   {
    "duration": 300,
    "start_time": "2022-02-07T08:14:54.349Z"
   },
   {
    "duration": 318,
    "start_time": "2022-02-07T08:15:14.559Z"
   },
   {
    "duration": 330,
    "start_time": "2022-02-07T08:15:22.740Z"
   },
   {
    "duration": 14,
    "start_time": "2022-02-07T08:19:43.771Z"
   },
   {
    "duration": 117,
    "start_time": "2022-02-07T08:20:01.453Z"
   },
   {
    "duration": 3,
    "start_time": "2022-02-07T08:20:04.579Z"
   },
   {
    "duration": 1568,
    "start_time": "2022-02-07T08:20:08.829Z"
   },
   {
    "duration": 3,
    "start_time": "2022-02-07T08:20:15.850Z"
   },
   {
    "duration": 111,
    "start_time": "2022-02-07T08:20:22.216Z"
   },
   {
    "duration": 3,
    "start_time": "2022-02-07T08:20:29.639Z"
   },
   {
    "duration": 4,
    "start_time": "2022-02-07T08:20:36.210Z"
   },
   {
    "duration": 3,
    "start_time": "2022-02-07T08:20:42.810Z"
   },
   {
    "duration": 5,
    "start_time": "2022-02-07T08:20:51.751Z"
   },
   {
    "duration": 3,
    "start_time": "2022-02-07T08:21:08.601Z"
   },
   {
    "duration": 3,
    "start_time": "2022-02-07T08:21:10.631Z"
   },
   {
    "duration": 3,
    "start_time": "2022-02-07T08:21:30.551Z"
   },
   {
    "duration": 3,
    "start_time": "2022-02-07T08:21:35.851Z"
   },
   {
    "duration": 45,
    "start_time": "2022-02-07T08:21:49.400Z"
   },
   {
    "duration": 16,
    "start_time": "2022-02-07T08:22:20.946Z"
   },
   {
    "duration": 15,
    "start_time": "2022-02-07T08:22:42.738Z"
   },
   {
    "duration": 13,
    "start_time": "2022-02-07T08:22:52.804Z"
   },
   {
    "duration": 6,
    "start_time": "2022-02-07T08:23:12.711Z"
   },
   {
    "duration": 30,
    "start_time": "2022-02-07T08:23:27.332Z"
   },
   {
    "duration": 33,
    "start_time": "2022-02-07T08:23:47.417Z"
   },
   {
    "duration": 36,
    "start_time": "2022-02-07T08:23:54.518Z"
   },
   {
    "duration": 2,
    "start_time": "2022-02-07T08:28:00.909Z"
   },
   {
    "duration": 130,
    "start_time": "2022-02-07T08:33:00.780Z"
   },
   {
    "duration": 20,
    "start_time": "2022-02-07T08:35:57.412Z"
   },
   {
    "duration": 13,
    "start_time": "2022-02-07T08:36:48.335Z"
   },
   {
    "duration": 16,
    "start_time": "2022-02-07T08:37:37.293Z"
   },
   {
    "duration": 317,
    "start_time": "2022-02-07T08:37:48.293Z"
   },
   {
    "duration": 348,
    "start_time": "2022-02-07T08:38:20.377Z"
   },
   {
    "duration": 1039,
    "start_time": "2022-02-07T08:38:28.173Z"
   },
   {
    "duration": 198,
    "start_time": "2022-02-07T08:38:29.214Z"
   },
   {
    "duration": 158,
    "start_time": "2022-02-07T08:38:29.414Z"
   },
   {
    "duration": 107,
    "start_time": "2022-02-07T08:38:29.853Z"
   },
   {
    "duration": 46,
    "start_time": "2022-02-07T08:38:30.333Z"
   },
   {
    "duration": 63,
    "start_time": "2022-02-07T08:38:30.853Z"
   },
   {
    "duration": 69,
    "start_time": "2022-02-07T08:38:32.293Z"
   },
   {
    "duration": 21,
    "start_time": "2022-02-07T08:38:33.613Z"
   },
   {
    "duration": 14,
    "start_time": "2022-02-07T08:38:34.653Z"
   },
   {
    "duration": 17,
    "start_time": "2022-02-07T08:38:36.454Z"
   },
   {
    "duration": 14,
    "start_time": "2022-02-07T08:40:10.255Z"
   },
   {
    "duration": 12,
    "start_time": "2022-02-07T08:40:19.575Z"
   },
   {
    "duration": 12,
    "start_time": "2022-02-07T08:40:24.056Z"
   },
   {
    "duration": 13,
    "start_time": "2022-02-07T08:57:59.096Z"
   },
   {
    "duration": 6,
    "start_time": "2022-02-07T08:59:36.216Z"
   },
   {
    "duration": 6,
    "start_time": "2022-02-07T08:59:39.214Z"
   },
   {
    "duration": 1010,
    "start_time": "2022-02-07T09:13:31.300Z"
   },
   {
    "duration": 185,
    "start_time": "2022-02-07T09:13:32.312Z"
   },
   {
    "duration": 155,
    "start_time": "2022-02-07T09:13:32.499Z"
   },
   {
    "duration": 102,
    "start_time": "2022-02-07T09:13:32.656Z"
   },
   {
    "duration": 45,
    "start_time": "2022-02-07T09:13:32.760Z"
   },
   {
    "duration": 47,
    "start_time": "2022-02-07T09:13:32.807Z"
   },
   {
    "duration": 75,
    "start_time": "2022-02-07T09:13:32.856Z"
   },
   {
    "duration": 20,
    "start_time": "2022-02-07T09:13:32.933Z"
   },
   {
    "duration": 21,
    "start_time": "2022-02-07T09:13:32.955Z"
   },
   {
    "duration": 17,
    "start_time": "2022-02-07T09:13:32.978Z"
   },
   {
    "duration": 388,
    "start_time": "2022-02-07T09:38:42.953Z"
   },
   {
    "duration": 387,
    "start_time": "2022-02-07T09:39:15.146Z"
   },
   {
    "duration": 375,
    "start_time": "2022-02-07T09:39:30.426Z"
   },
   {
    "duration": 54201,
    "start_time": "2022-02-07T09:39:36.744Z"
   },
   {
    "duration": 19,
    "start_time": "2022-02-07T09:40:30.985Z"
   },
   {
    "duration": 1059,
    "start_time": "2022-02-07T09:41:35.459Z"
   },
   {
    "duration": 193,
    "start_time": "2022-02-07T09:41:36.520Z"
   },
   {
    "duration": 168,
    "start_time": "2022-02-07T09:41:36.715Z"
   },
   {
    "duration": 108,
    "start_time": "2022-02-07T09:41:36.885Z"
   },
   {
    "duration": 48,
    "start_time": "2022-02-07T09:41:36.995Z"
   },
   {
    "duration": 51,
    "start_time": "2022-02-07T09:41:37.045Z"
   },
   {
    "duration": 82,
    "start_time": "2022-02-07T09:41:37.097Z"
   },
   {
    "duration": 21,
    "start_time": "2022-02-07T09:41:37.181Z"
   },
   {
    "duration": 14,
    "start_time": "2022-02-07T09:41:37.203Z"
   },
   {
    "duration": 18,
    "start_time": "2022-02-07T09:41:37.218Z"
   },
   {
    "duration": 55193,
    "start_time": "2022-02-07T09:41:37.237Z"
   },
   {
    "duration": 5,
    "start_time": "2022-02-07T09:42:32.443Z"
   },
   {
    "duration": 11,
    "start_time": "2022-02-07T09:42:42.419Z"
   },
   {
    "duration": 1026,
    "start_time": "2022-02-07T09:43:01.379Z"
   },
   {
    "duration": 184,
    "start_time": "2022-02-07T09:43:02.407Z"
   },
   {
    "duration": 155,
    "start_time": "2022-02-07T09:43:02.593Z"
   },
   {
    "duration": 109,
    "start_time": "2022-02-07T09:43:02.749Z"
   },
   {
    "duration": 46,
    "start_time": "2022-02-07T09:43:03.226Z"
   },
   {
    "duration": 50,
    "start_time": "2022-02-07T09:43:03.743Z"
   },
   {
    "duration": 67,
    "start_time": "2022-02-07T09:43:05.427Z"
   },
   {
    "duration": 20,
    "start_time": "2022-02-07T09:43:07.498Z"
   },
   {
    "duration": 14,
    "start_time": "2022-02-07T09:43:07.818Z"
   },
   {
    "duration": 18,
    "start_time": "2022-02-07T09:43:08.178Z"
   },
   {
    "duration": 988,
    "start_time": "2022-02-07T09:43:54.720Z"
   },
   {
    "duration": 188,
    "start_time": "2022-02-07T09:43:55.710Z"
   },
   {
    "duration": 1037,
    "start_time": "2022-02-07T09:43:57.859Z"
   },
   {
    "duration": 195,
    "start_time": "2022-02-07T09:43:58.897Z"
   },
   {
    "duration": 157,
    "start_time": "2022-02-07T09:43:59.094Z"
   },
   {
    "duration": 100,
    "start_time": "2022-02-07T09:43:59.253Z"
   },
   {
    "duration": 46,
    "start_time": "2022-02-07T09:43:59.355Z"
   },
   {
    "duration": 46,
    "start_time": "2022-02-07T09:43:59.402Z"
   },
   {
    "duration": 65,
    "start_time": "2022-02-07T09:43:59.449Z"
   },
   {
    "duration": 21,
    "start_time": "2022-02-07T09:43:59.516Z"
   },
   {
    "duration": 14,
    "start_time": "2022-02-07T09:43:59.539Z"
   },
   {
    "duration": 29,
    "start_time": "2022-02-07T09:43:59.555Z"
   },
   {
    "duration": 988,
    "start_time": "2022-02-07T09:45:13.018Z"
   },
   {
    "duration": 184,
    "start_time": "2022-02-07T09:45:14.007Z"
   },
   {
    "duration": 157,
    "start_time": "2022-02-07T09:45:14.193Z"
   },
   {
    "duration": 103,
    "start_time": "2022-02-07T09:45:14.352Z"
   },
   {
    "duration": 44,
    "start_time": "2022-02-07T09:45:14.456Z"
   },
   {
    "duration": 46,
    "start_time": "2022-02-07T09:45:14.502Z"
   },
   {
    "duration": 65,
    "start_time": "2022-02-07T09:45:14.549Z"
   },
   {
    "duration": 23,
    "start_time": "2022-02-07T09:45:14.617Z"
   },
   {
    "duration": 13,
    "start_time": "2022-02-07T09:45:14.641Z"
   },
   {
    "duration": 28,
    "start_time": "2022-02-07T09:45:14.656Z"
   },
   {
    "duration": 55351,
    "start_time": "2022-02-07T09:45:14.685Z"
   },
   {
    "duration": 3,
    "start_time": "2022-02-07T09:46:10.038Z"
   },
   {
    "duration": 15,
    "start_time": "2022-02-07T09:46:10.043Z"
   },
   {
    "duration": 31,
    "start_time": "2022-02-07T09:47:29.300Z"
   },
   {
    "duration": 4,
    "start_time": "2022-02-07T09:48:10.220Z"
   },
   {
    "duration": 31,
    "start_time": "2022-02-07T09:48:17.460Z"
   },
   {
    "duration": 431,
    "start_time": "2022-02-07T09:48:56.582Z"
   },
   {
    "duration": 6,
    "start_time": "2022-02-07T09:49:07.499Z"
   },
   {
    "duration": 32,
    "start_time": "2022-02-07T09:49:21.290Z"
   },
   {
    "duration": 7,
    "start_time": "2022-02-07T09:49:22.341Z"
   },
   {
    "duration": 7,
    "start_time": "2022-02-07T09:54:54.101Z"
   },
   {
    "duration": 7,
    "start_time": "2022-02-07T09:55:11.800Z"
   },
   {
    "duration": 8,
    "start_time": "2022-02-07T09:56:44.941Z"
   },
   {
    "duration": 12,
    "start_time": "2022-02-07T09:57:01.462Z"
   },
   {
    "duration": 7,
    "start_time": "2022-02-07T09:57:37.581Z"
   },
   {
    "duration": 1025,
    "start_time": "2022-02-07T09:59:31.588Z"
   },
   {
    "duration": 185,
    "start_time": "2022-02-07T09:59:32.615Z"
   },
   {
    "duration": 157,
    "start_time": "2022-02-07T09:59:32.802Z"
   },
   {
    "duration": 104,
    "start_time": "2022-02-07T09:59:32.961Z"
   },
   {
    "duration": 49,
    "start_time": "2022-02-07T09:59:33.066Z"
   },
   {
    "duration": 49,
    "start_time": "2022-02-07T09:59:33.116Z"
   },
   {
    "duration": 65,
    "start_time": "2022-02-07T09:59:33.166Z"
   },
   {
    "duration": 20,
    "start_time": "2022-02-07T09:59:33.233Z"
   },
   {
    "duration": 18,
    "start_time": "2022-02-07T09:59:33.254Z"
   },
   {
    "duration": 17,
    "start_time": "2022-02-07T09:59:33.273Z"
   },
   {
    "duration": 40,
    "start_time": "2022-02-07T10:00:26.955Z"
   },
   {
    "duration": 2,
    "start_time": "2022-02-07T10:00:26.996Z"
   },
   {
    "duration": 53607,
    "start_time": "2022-02-07T10:00:27.000Z"
   },
   {
    "duration": 296,
    "start_time": "2022-02-07T10:01:28.356Z"
   },
   {
    "duration": 990,
    "start_time": "2022-02-07T10:09:57.504Z"
   },
   {
    "duration": 192,
    "start_time": "2022-02-07T10:09:59.545Z"
   },
   {
    "duration": 154,
    "start_time": "2022-02-07T10:10:00.655Z"
   },
   {
    "duration": 118,
    "start_time": "2022-02-07T10:10:01.232Z"
   },
   {
    "duration": 45,
    "start_time": "2022-02-07T10:10:01.864Z"
   },
   {
    "duration": 50,
    "start_time": "2022-02-07T10:10:02.465Z"
   },
   {
    "duration": 63,
    "start_time": "2022-02-07T10:10:03.444Z"
   },
   {
    "duration": 20,
    "start_time": "2022-02-07T10:10:04.438Z"
   },
   {
    "duration": 15,
    "start_time": "2022-02-07T10:10:05.348Z"
   },
   {
    "duration": 17,
    "start_time": "2022-02-07T10:10:05.935Z"
   },
   {
    "duration": 54104,
    "start_time": "2022-02-07T10:10:07.067Z"
   },
   {
    "duration": 35,
    "start_time": "2022-02-07T10:11:01.209Z"
   },
   {
    "duration": 8686,
    "start_time": "2022-02-07T10:11:04.685Z"
   },
   {
    "duration": 6,
    "start_time": "2022-02-07T10:11:45.743Z"
   },
   {
    "duration": 339,
    "start_time": "2022-02-07T10:15:33.147Z"
   },
   {
    "duration": 320,
    "start_time": "2022-02-07T10:15:41.945Z"
   },
   {
    "duration": 7,
    "start_time": "2022-02-07T10:15:50.548Z"
   },
   {
    "duration": 5,
    "start_time": "2022-02-07T10:16:08.703Z"
   },
   {
    "duration": 343,
    "start_time": "2022-02-07T10:16:59.188Z"
   },
   {
    "duration": 396,
    "start_time": "2022-02-07T10:18:07.107Z"
   },
   {
    "duration": 6,
    "start_time": "2022-02-07T10:18:45.464Z"
   },
   {
    "duration": 5,
    "start_time": "2022-02-07T10:18:47.358Z"
   },
   {
    "duration": 3,
    "start_time": "2022-02-07T10:19:18.904Z"
   },
   {
    "duration": 5,
    "start_time": "2022-02-07T10:19:19.744Z"
   },
   {
    "duration": 6,
    "start_time": "2022-02-07T10:29:39.712Z"
   },
   {
    "duration": 6,
    "start_time": "2022-02-07T10:29:41.704Z"
   },
   {
    "duration": 5,
    "start_time": "2022-02-07T10:30:52.218Z"
   },
   {
    "duration": 5,
    "start_time": "2022-02-07T10:30:52.674Z"
   },
   {
    "duration": 12,
    "start_time": "2022-02-07T10:38:47.689Z"
   },
   {
    "duration": 15,
    "start_time": "2022-02-07T10:38:51.808Z"
   },
   {
    "duration": 30,
    "start_time": "2022-02-07T10:39:09.370Z"
   },
   {
    "duration": 5,
    "start_time": "2022-02-07T10:54:54.861Z"
   },
   {
    "duration": 7,
    "start_time": "2022-02-07T10:55:02.742Z"
   },
   {
    "duration": 4,
    "start_time": "2022-02-07T10:55:18.103Z"
   },
   {
    "duration": 1041,
    "start_time": "2022-02-07T11:01:43.165Z"
   },
   {
    "duration": 190,
    "start_time": "2022-02-07T11:01:44.621Z"
   },
   {
    "duration": 163,
    "start_time": "2022-02-07T11:01:45.724Z"
   },
   {
    "duration": 106,
    "start_time": "2022-02-07T11:01:46.364Z"
   },
   {
    "duration": 46,
    "start_time": "2022-02-07T11:01:47.665Z"
   },
   {
    "duration": 48,
    "start_time": "2022-02-07T11:01:49.344Z"
   },
   {
    "duration": 65,
    "start_time": "2022-02-07T11:01:51.022Z"
   },
   {
    "duration": 21,
    "start_time": "2022-02-07T11:01:52.185Z"
   },
   {
    "duration": 14,
    "start_time": "2022-02-07T11:01:52.692Z"
   },
   {
    "duration": 17,
    "start_time": "2022-02-07T11:01:53.101Z"
   },
   {
    "duration": 53419,
    "start_time": "2022-02-07T11:01:54.061Z"
   },
   {
    "duration": 56,
    "start_time": "2022-02-07T11:02:47.516Z"
   },
   {
    "duration": 6,
    "start_time": "2022-02-07T11:03:02.692Z"
   },
   {
    "duration": 11,
    "start_time": "2022-02-07T11:03:03.695Z"
   },
   {
    "duration": 34,
    "start_time": "2022-02-07T11:03:04.982Z"
   },
   {
    "duration": 104,
    "start_time": "2022-02-07T11:07:39.062Z"
   },
   {
    "duration": 132,
    "start_time": "2022-02-07T11:07:54.700Z"
   },
   {
    "duration": 3,
    "start_time": "2022-02-07T11:07:58.744Z"
   },
   {
    "duration": 124,
    "start_time": "2022-02-07T11:08:01.523Z"
   },
   {
    "duration": 183,
    "start_time": "2022-02-07T11:08:25.594Z"
   },
   {
    "duration": 106,
    "start_time": "2022-02-07T11:08:32.710Z"
   },
   {
    "duration": 115,
    "start_time": "2022-02-07T11:08:41.902Z"
   },
   {
    "duration": 170,
    "start_time": "2022-02-07T11:12:52.562Z"
   },
   {
    "duration": 206,
    "start_time": "2022-02-07T11:13:07.252Z"
   },
   {
    "duration": 170,
    "start_time": "2022-02-07T11:13:15.838Z"
   },
   {
    "duration": 5,
    "start_time": "2022-02-07T11:13:56.075Z"
   },
   {
    "duration": 114,
    "start_time": "2022-02-07T11:14:29.774Z"
   },
   {
    "duration": 34,
    "start_time": "2022-02-07T11:14:37.505Z"
   },
   {
    "duration": 128,
    "start_time": "2022-02-07T11:15:06.824Z"
   },
   {
    "duration": 35,
    "start_time": "2022-02-07T11:15:09.725Z"
   },
   {
    "duration": 5,
    "start_time": "2022-02-07T11:15:38.054Z"
   },
   {
    "duration": 116,
    "start_time": "2022-02-07T11:17:34.144Z"
   },
   {
    "duration": 5,
    "start_time": "2022-02-07T11:17:37.324Z"
   },
   {
    "duration": 719,
    "start_time": "2022-02-07T11:17:37.712Z"
   },
   {
    "duration": 37,
    "start_time": "2022-02-07T11:17:38.463Z"
   },
   {
    "duration": 5,
    "start_time": "2022-02-07T11:18:57.739Z"
   },
   {
    "duration": 678,
    "start_time": "2022-02-07T11:18:58.656Z"
   },
   {
    "duration": 7,
    "start_time": "2022-02-07T11:19:43.006Z"
   },
   {
    "duration": 5,
    "start_time": "2022-02-07T11:19:58.912Z"
   },
   {
    "duration": 114,
    "start_time": "2022-02-07T11:19:59.297Z"
   },
   {
    "duration": 45,
    "start_time": "2022-02-07T11:20:01.345Z"
   },
   {
    "duration": 1175,
    "start_time": "2022-02-07T11:20:18.661Z"
   },
   {
    "duration": 180,
    "start_time": "2022-02-07T11:20:19.837Z"
   },
   {
    "duration": 159,
    "start_time": "2022-02-07T11:20:20.018Z"
   },
   {
    "duration": 100,
    "start_time": "2022-02-07T11:20:20.179Z"
   },
   {
    "duration": 42,
    "start_time": "2022-02-07T11:20:20.281Z"
   },
   {
    "duration": 45,
    "start_time": "2022-02-07T11:20:20.325Z"
   },
   {
    "duration": 61,
    "start_time": "2022-02-07T11:20:20.371Z"
   },
   {
    "duration": 21,
    "start_time": "2022-02-07T11:20:20.435Z"
   },
   {
    "duration": 18,
    "start_time": "2022-02-07T11:20:20.458Z"
   },
   {
    "duration": 16,
    "start_time": "2022-02-07T11:20:20.478Z"
   },
   {
    "duration": 52767,
    "start_time": "2022-02-07T11:20:20.496Z"
   },
   {
    "duration": 35,
    "start_time": "2022-02-07T11:21:13.265Z"
   },
   {
    "duration": 7,
    "start_time": "2022-02-07T11:21:13.302Z"
   },
   {
    "duration": 21,
    "start_time": "2022-02-07T11:21:13.310Z"
   },
   {
    "duration": 52,
    "start_time": "2022-02-07T11:21:13.332Z"
   },
   {
    "duration": 5,
    "start_time": "2022-02-07T11:21:13.386Z"
   },
   {
    "duration": 129,
    "start_time": "2022-02-07T11:21:13.392Z"
   },
   {
    "duration": 33,
    "start_time": "2022-02-07T11:21:13.523Z"
   },
   {
    "duration": 129,
    "start_time": "2022-02-07T11:23:21.072Z"
   },
   {
    "duration": 35,
    "start_time": "2022-02-07T11:23:22.577Z"
   },
   {
    "duration": 437,
    "start_time": "2022-02-07T11:30:01.438Z"
   },
   {
    "duration": 40,
    "start_time": "2022-02-07T11:30:14.669Z"
   },
   {
    "duration": 37,
    "start_time": "2022-02-07T11:34:45.960Z"
   },
   {
    "duration": 3156,
    "start_time": "2022-02-07T11:35:11.300Z"
   },
   {
    "duration": 36,
    "start_time": "2022-02-07T11:35:24.430Z"
   },
   {
    "duration": 919,
    "start_time": "2022-02-07T11:35:33.167Z"
   },
   {
    "duration": 381,
    "start_time": "2022-02-07T11:35:53.959Z"
   },
   {
    "duration": 1017,
    "start_time": "2022-02-07T11:36:05.251Z"
   },
   {
    "duration": 926,
    "start_time": "2022-02-07T11:36:32.940Z"
   },
   {
    "duration": 978,
    "start_time": "2022-02-07T11:37:11.420Z"
   },
   {
    "duration": 1104,
    "start_time": "2022-02-07T11:37:41.321Z"
   },
   {
    "duration": 8,
    "start_time": "2022-02-07T11:39:27.340Z"
   },
   {
    "duration": 13,
    "start_time": "2022-02-07T11:40:05.342Z"
   },
   {
    "duration": 13,
    "start_time": "2022-02-07T11:40:09.609Z"
   },
   {
    "duration": 12,
    "start_time": "2022-02-07T11:40:14.381Z"
   },
   {
    "duration": 9,
    "start_time": "2022-02-07T11:40:18.198Z"
   },
   {
    "duration": 9,
    "start_time": "2022-02-07T11:40:23.580Z"
   },
   {
    "duration": 12,
    "start_time": "2022-02-07T11:40:26.509Z"
   },
   {
    "duration": 9,
    "start_time": "2022-02-07T11:40:28.778Z"
   },
   {
    "duration": 8,
    "start_time": "2022-02-07T11:40:34.121Z"
   },
   {
    "duration": 10,
    "start_time": "2022-02-07T11:40:41.248Z"
   },
   {
    "duration": 13,
    "start_time": "2022-02-07T11:40:44.580Z"
   },
   {
    "duration": 16,
    "start_time": "2022-02-07T11:41:42.642Z"
   },
   {
    "duration": 54,
    "start_time": "2022-02-07T11:45:57.331Z"
   },
   {
    "duration": 33,
    "start_time": "2022-02-07T11:47:01.908Z"
   },
   {
    "duration": 27,
    "start_time": "2022-02-07T11:48:33.639Z"
   },
   {
    "duration": 31,
    "start_time": "2022-02-07T11:49:43.298Z"
   },
   {
    "duration": 2396,
    "start_time": "2022-02-07T11:50:55.741Z"
   },
   {
    "duration": 610,
    "start_time": "2022-02-07T11:51:06.709Z"
   },
   {
    "duration": 9374,
    "start_time": "2022-02-07T11:51:19.030Z"
   },
   {
    "duration": 2409,
    "start_time": "2022-02-07T11:51:50.786Z"
   },
   {
    "duration": 2262,
    "start_time": "2022-02-07T11:53:51.886Z"
   },
   {
    "duration": 2212,
    "start_time": "2022-02-07T11:54:11.447Z"
   },
   {
    "duration": 9334,
    "start_time": "2022-02-07T11:54:31.149Z"
   },
   {
    "duration": 946,
    "start_time": "2022-02-07T11:54:56.510Z"
   },
   {
    "duration": 1065,
    "start_time": "2022-02-07T11:58:40.494Z"
   },
   {
    "duration": 1009,
    "start_time": "2022-02-07T11:59:23.390Z"
   },
   {
    "duration": 1214,
    "start_time": "2022-02-07T12:00:30.809Z"
   },
   {
    "duration": 915,
    "start_time": "2022-02-07T12:06:18.509Z"
   },
   {
    "duration": 653,
    "start_time": "2022-02-07T12:06:49.080Z"
   },
   {
    "duration": 651,
    "start_time": "2022-02-07T12:07:25.994Z"
   },
   {
    "duration": 1061,
    "start_time": "2022-02-07T12:07:36.170Z"
   },
   {
    "duration": 790,
    "start_time": "2022-02-07T12:07:46.628Z"
   },
   {
    "duration": 1959,
    "start_time": "2022-02-07T12:07:52.391Z"
   },
   {
    "duration": 825,
    "start_time": "2022-02-07T12:07:57.131Z"
   },
   {
    "duration": 1054,
    "start_time": "2022-02-07T12:08:06.840Z"
   },
   {
    "duration": 649,
    "start_time": "2022-02-07T12:09:02.609Z"
   },
   {
    "duration": 1259,
    "start_time": "2022-02-07T12:09:27.088Z"
   },
   {
    "duration": 1775,
    "start_time": "2022-02-07T12:09:30.209Z"
   },
   {
    "duration": 1023,
    "start_time": "2022-02-07T12:09:38.687Z"
   },
   {
    "duration": 1541,
    "start_time": "2022-02-07T12:10:14.619Z"
   },
   {
    "duration": 899,
    "start_time": "2022-02-07T12:10:23.358Z"
   },
   {
    "duration": 895,
    "start_time": "2022-02-07T12:10:37.127Z"
   },
   {
    "duration": 1254,
    "start_time": "2022-02-07T12:10:44.924Z"
   },
   {
    "duration": 1713,
    "start_time": "2022-02-07T12:11:07.867Z"
   },
   {
    "duration": 637,
    "start_time": "2022-02-07T12:12:07.698Z"
   },
   {
    "duration": 1194,
    "start_time": "2022-02-07T12:12:13.228Z"
   },
   {
    "duration": 147,
    "start_time": "2022-02-07T12:13:45.332Z"
   },
   {
    "duration": 108,
    "start_time": "2022-02-07T12:14:02.530Z"
   },
   {
    "duration": 105,
    "start_time": "2022-02-07T12:14:05.189Z"
   },
   {
    "duration": 1734,
    "start_time": "2022-02-07T12:14:10.600Z"
   },
   {
    "duration": 869,
    "start_time": "2022-02-07T12:14:52.159Z"
   },
   {
    "duration": 892,
    "start_time": "2022-02-07T12:15:42.189Z"
   },
   {
    "duration": 479,
    "start_time": "2022-02-07T12:16:32.707Z"
   },
   {
    "duration": 1990,
    "start_time": "2022-02-07T12:16:42.749Z"
   },
   {
    "duration": 126,
    "start_time": "2022-02-07T12:19:14.464Z"
   },
   {
    "duration": 112,
    "start_time": "2022-02-07T12:19:29.317Z"
   },
   {
    "duration": 1015,
    "start_time": "2022-02-07T12:19:39.069Z"
   },
   {
    "duration": 1010,
    "start_time": "2022-02-07T12:20:22.077Z"
   },
   {
    "duration": 322,
    "start_time": "2022-02-07T12:57:47.340Z"
   },
   {
    "duration": 361,
    "start_time": "2022-02-07T12:58:05.319Z"
   },
   {
    "duration": 38,
    "start_time": "2022-02-07T12:58:19.795Z"
   },
   {
    "duration": 325,
    "start_time": "2022-02-07T13:32:54.919Z"
   },
   {
    "duration": 29,
    "start_time": "2022-02-07T13:34:05.029Z"
   },
   {
    "duration": 9,
    "start_time": "2022-02-07T13:54:13.318Z"
   },
   {
    "duration": 9,
    "start_time": "2022-02-07T13:56:05.379Z"
   },
   {
    "duration": 2197,
    "start_time": "2022-02-07T13:56:24.257Z"
   },
   {
    "duration": 9,
    "start_time": "2022-02-07T13:56:35.449Z"
   },
   {
    "duration": 316,
    "start_time": "2022-02-07T14:21:42.829Z"
   },
   {
    "duration": 8,
    "start_time": "2022-02-07T14:22:22.900Z"
   },
   {
    "duration": 4,
    "start_time": "2022-02-07T14:22:51.146Z"
   },
   {
    "duration": 375,
    "start_time": "2022-02-07T16:58:57.043Z"
   },
   {
    "duration": 1530,
    "start_time": "2022-02-07T16:59:04.425Z"
   },
   {
    "duration": 296,
    "start_time": "2022-02-07T16:59:05.957Z"
   },
   {
    "duration": 248,
    "start_time": "2022-02-07T16:59:06.256Z"
   },
   {
    "duration": 169,
    "start_time": "2022-02-07T16:59:06.508Z"
   },
   {
    "duration": 82,
    "start_time": "2022-02-07T16:59:06.680Z"
   },
   {
    "duration": 68,
    "start_time": "2022-02-07T16:59:06.765Z"
   },
   {
    "duration": 114,
    "start_time": "2022-02-07T16:59:06.836Z"
   },
   {
    "duration": 31,
    "start_time": "2022-02-07T16:59:06.955Z"
   },
   {
    "duration": 21,
    "start_time": "2022-02-07T16:59:06.989Z"
   },
   {
    "duration": 51,
    "start_time": "2022-02-07T16:59:07.013Z"
   },
   {
    "duration": 91017,
    "start_time": "2022-02-07T16:59:07.066Z"
   },
   {
    "duration": 69,
    "start_time": "2022-02-07T17:00:38.086Z"
   },
   {
    "duration": 8,
    "start_time": "2022-02-07T17:00:38.157Z"
   },
   {
    "duration": 28,
    "start_time": "2022-02-07T17:00:38.167Z"
   },
   {
    "duration": 77,
    "start_time": "2022-02-07T17:00:38.197Z"
   },
   {
    "duration": 230,
    "start_time": "2022-02-07T17:00:38.277Z"
   },
   {
    "duration": 76,
    "start_time": "2022-02-07T17:00:38.509Z"
   },
   {
    "duration": 512,
    "start_time": "2022-02-07T17:00:38.588Z"
   },
   {
    "duration": -546,
    "start_time": "2022-02-07T17:00:39.649Z"
   },
   {
    "duration": -547,
    "start_time": "2022-02-07T17:00:39.651Z"
   },
   {
    "duration": -548,
    "start_time": "2022-02-07T17:00:39.653Z"
   },
   {
    "duration": -551,
    "start_time": "2022-02-07T17:00:39.658Z"
   },
   {
    "duration": -557,
    "start_time": "2022-02-07T17:00:39.666Z"
   },
   {
    "duration": -558,
    "start_time": "2022-02-07T17:00:39.669Z"
   },
   {
    "duration": 226,
    "start_time": "2022-02-07T17:01:19.008Z"
   },
   {
    "duration": 191,
    "start_time": "2022-02-07T17:01:29.761Z"
   },
   {
    "duration": 147,
    "start_time": "2022-02-07T17:01:31.654Z"
   },
   {
    "duration": 33,
    "start_time": "2022-02-07T17:01:32.417Z"
   },
   {
    "duration": 50,
    "start_time": "2022-02-07T17:01:33.121Z"
   },
   {
    "duration": 106,
    "start_time": "2022-02-07T17:01:34.234Z"
   },
   {
    "duration": 31,
    "start_time": "2022-02-07T17:01:34.800Z"
   },
   {
    "duration": 21,
    "start_time": "2022-02-07T17:01:35.181Z"
   },
   {
    "duration": 27,
    "start_time": "2022-02-07T17:01:35.556Z"
   },
   {
    "duration": 87713,
    "start_time": "2022-02-07T17:01:36.497Z"
   },
   {
    "duration": 20,
    "start_time": "2022-02-07T17:03:04.213Z"
   },
   {
    "duration": 8,
    "start_time": "2022-02-07T17:03:04.250Z"
   },
   {
    "duration": 20,
    "start_time": "2022-02-07T17:03:04.261Z"
   },
   {
    "duration": 23,
    "start_time": "2022-02-07T17:03:04.284Z"
   },
   {
    "duration": 243,
    "start_time": "2022-02-07T17:03:04.310Z"
   },
   {
    "duration": 23,
    "start_time": "2022-02-07T17:03:04.555Z"
   },
   {
    "duration": 348,
    "start_time": "2022-02-07T17:03:04.581Z"
   },
   {
    "duration": -544,
    "start_time": "2022-02-07T17:03:05.476Z"
   },
   {
    "duration": -546,
    "start_time": "2022-02-07T17:03:05.479Z"
   },
   {
    "duration": -548,
    "start_time": "2022-02-07T17:03:05.483Z"
   },
   {
    "duration": -551,
    "start_time": "2022-02-07T17:03:05.487Z"
   },
   {
    "duration": -556,
    "start_time": "2022-02-07T17:03:05.494Z"
   },
   {
    "duration": -559,
    "start_time": "2022-02-07T17:03:05.498Z"
   },
   {
    "duration": 216,
    "start_time": "2022-02-07T17:04:47.830Z"
   },
   {
    "duration": 212,
    "start_time": "2022-02-07T17:05:05.016Z"
   },
   {
    "duration": 144,
    "start_time": "2022-02-07T17:05:10.391Z"
   },
   {
    "duration": 33,
    "start_time": "2022-02-07T17:05:16.188Z"
   },
   {
    "duration": 52,
    "start_time": "2022-02-07T17:05:21.504Z"
   },
   {
    "duration": 102,
    "start_time": "2022-02-07T17:05:29.248Z"
   },
   {
    "duration": 29,
    "start_time": "2022-02-07T17:05:29.886Z"
   },
   {
    "duration": 21,
    "start_time": "2022-02-07T17:05:30.506Z"
   },
   {
    "duration": 23,
    "start_time": "2022-02-07T17:05:30.842Z"
   },
   {
    "duration": 88276,
    "start_time": "2022-02-07T17:05:32.359Z"
   },
   {
    "duration": 24,
    "start_time": "2022-02-07T17:07:00.638Z"
   },
   {
    "duration": 10,
    "start_time": "2022-02-07T17:07:06.893Z"
   },
   {
    "duration": 21,
    "start_time": "2022-02-07T17:07:07.603Z"
   },
   {
    "duration": 24,
    "start_time": "2022-02-07T17:07:13.174Z"
   },
   {
    "duration": 226,
    "start_time": "2022-02-07T17:07:16.288Z"
   },
   {
    "duration": 25,
    "start_time": "2022-02-07T17:07:21.868Z"
   },
   {
    "duration": 424,
    "start_time": "2022-02-07T17:07:31.403Z"
   },
   {
    "duration": 64,
    "start_time": "2022-02-07T17:07:49.746Z"
   },
   {
    "duration": 1805,
    "start_time": "2022-02-07T17:07:53.879Z"
   },
   {
    "duration": 655,
    "start_time": "2022-02-07T17:07:58.369Z"
   },
   {
    "duration": 13,
    "start_time": "2022-02-07T17:08:03.892Z"
   },
   {
    "duration": 13,
    "start_time": "2022-02-07T17:08:07.624Z"
   },
   {
    "duration": 7,
    "start_time": "2022-02-07T17:12:35.652Z"
   },
   {
    "duration": 13,
    "start_time": "2022-02-07T17:42:21.774Z"
   },
   {
    "duration": 12,
    "start_time": "2022-02-07T17:42:23.745Z"
   },
   {
    "duration": 7,
    "start_time": "2022-02-07T17:42:24.298Z"
   },
   {
    "duration": 7,
    "start_time": "2022-02-07T17:46:54.713Z"
   },
   {
    "duration": 13,
    "start_time": "2022-02-07T17:51:28.285Z"
   },
   {
    "duration": 14,
    "start_time": "2022-02-07T17:51:41.154Z"
   },
   {
    "duration": 12,
    "start_time": "2022-02-07T17:51:45.977Z"
   },
   {
    "duration": 13,
    "start_time": "2022-02-07T18:12:27.492Z"
   },
   {
    "duration": 14,
    "start_time": "2022-02-07T18:16:17.293Z"
   },
   {
    "duration": 13,
    "start_time": "2022-02-07T18:16:28.768Z"
   },
   {
    "duration": 13,
    "start_time": "2022-02-07T18:16:45.345Z"
   },
   {
    "duration": 12,
    "start_time": "2022-02-07T18:17:07.141Z"
   },
   {
    "duration": 12,
    "start_time": "2022-02-07T18:17:11.825Z"
   },
   {
    "duration": 14,
    "start_time": "2022-02-07T18:17:19.380Z"
   },
   {
    "duration": 1356,
    "start_time": "2022-02-07T18:17:36.651Z"
   },
   {
    "duration": 240,
    "start_time": "2022-02-07T18:17:38.010Z"
   },
   {
    "duration": 202,
    "start_time": "2022-02-07T18:17:38.253Z"
   },
   {
    "duration": 139,
    "start_time": "2022-02-07T18:17:38.458Z"
   },
   {
    "duration": 34,
    "start_time": "2022-02-07T18:17:38.600Z"
   },
   {
    "duration": 70,
    "start_time": "2022-02-07T18:17:38.636Z"
   },
   {
    "duration": 93,
    "start_time": "2022-02-07T18:17:38.709Z"
   },
   {
    "duration": 29,
    "start_time": "2022-02-07T18:17:38.806Z"
   },
   {
    "duration": 28,
    "start_time": "2022-02-07T18:17:38.838Z"
   },
   {
    "duration": 26,
    "start_time": "2022-02-07T18:17:38.869Z"
   },
   {
    "duration": 87278,
    "start_time": "2022-02-07T18:17:38.898Z"
   },
   {
    "duration": 20,
    "start_time": "2022-02-07T18:19:06.178Z"
   },
   {
    "duration": 9,
    "start_time": "2022-02-07T18:19:06.201Z"
   },
   {
    "duration": 48,
    "start_time": "2022-02-07T18:19:06.212Z"
   },
   {
    "duration": 22,
    "start_time": "2022-02-07T18:19:06.262Z"
   },
   {
    "duration": 238,
    "start_time": "2022-02-07T18:19:06.286Z"
   },
   {
    "duration": 28,
    "start_time": "2022-02-07T18:19:06.526Z"
   },
   {
    "duration": 59,
    "start_time": "2022-02-07T18:19:06.556Z"
   },
   {
    "duration": 1838,
    "start_time": "2022-02-07T18:19:06.618Z"
   },
   {
    "duration": 659,
    "start_time": "2022-02-07T18:19:08.459Z"
   },
   {
    "duration": 12,
    "start_time": "2022-02-07T18:19:09.120Z"
   },
   {
    "duration": 12,
    "start_time": "2022-02-07T18:19:09.147Z"
   },
   {
    "duration": 7,
    "start_time": "2022-02-07T18:19:09.163Z"
   },
   {
    "duration": 13,
    "start_time": "2022-02-07T18:19:35.955Z"
   },
   {
    "duration": 11,
    "start_time": "2022-02-07T18:19:39.000Z"
   },
   {
    "duration": 13,
    "start_time": "2022-02-07T18:20:36.014Z"
   },
   {
    "duration": 12,
    "start_time": "2022-02-07T18:20:46.569Z"
   },
   {
    "duration": 14,
    "start_time": "2022-02-07T18:21:34.147Z"
   },
   {
    "duration": 12,
    "start_time": "2022-02-07T18:21:57.370Z"
   },
   {
    "duration": 16,
    "start_time": "2022-02-07T18:22:09.600Z"
   },
   {
    "duration": 17,
    "start_time": "2022-02-07T18:23:13.326Z"
   },
   {
    "duration": 14,
    "start_time": "2022-02-07T18:23:20.313Z"
   },
   {
    "duration": 1293,
    "start_time": "2022-02-07T18:23:39.027Z"
   },
   {
    "duration": 236,
    "start_time": "2022-02-07T18:23:40.322Z"
   },
   {
    "duration": 198,
    "start_time": "2022-02-07T18:23:40.561Z"
   },
   {
    "duration": 131,
    "start_time": "2022-02-07T18:23:40.762Z"
   },
   {
    "duration": 32,
    "start_time": "2022-02-07T18:23:40.896Z"
   },
   {
    "duration": 50,
    "start_time": "2022-02-07T18:23:40.930Z"
   },
   {
    "duration": 109,
    "start_time": "2022-02-07T18:23:40.983Z"
   },
   {
    "duration": 30,
    "start_time": "2022-02-07T18:23:41.096Z"
   },
   {
    "duration": 33,
    "start_time": "2022-02-07T18:23:41.129Z"
   },
   {
    "duration": 23,
    "start_time": "2022-02-07T18:23:41.164Z"
   },
   {
    "duration": 88962,
    "start_time": "2022-02-07T18:23:41.189Z"
   },
   {
    "duration": 23,
    "start_time": "2022-02-07T18:25:10.154Z"
   },
   {
    "duration": 9,
    "start_time": "2022-02-07T18:25:10.180Z"
   },
   {
    "duration": 59,
    "start_time": "2022-02-07T18:25:10.192Z"
   },
   {
    "duration": 22,
    "start_time": "2022-02-07T18:25:10.253Z"
   },
   {
    "duration": 232,
    "start_time": "2022-02-07T18:25:10.278Z"
   },
   {
    "duration": 35,
    "start_time": "2022-02-07T18:25:10.513Z"
   },
   {
    "duration": 62,
    "start_time": "2022-02-07T18:25:10.551Z"
   },
   {
    "duration": 1852,
    "start_time": "2022-02-07T18:25:10.616Z"
   },
   {
    "duration": 708,
    "start_time": "2022-02-07T18:25:12.471Z"
   },
   {
    "duration": 439,
    "start_time": "2022-02-07T18:25:16.278Z"
   },
   {
    "duration": 13,
    "start_time": "2022-02-07T18:25:28.406Z"
   },
   {
    "duration": 13,
    "start_time": "2022-02-07T18:25:54.885Z"
   },
   {
    "duration": 1325,
    "start_time": "2022-02-07T18:26:07.798Z"
   },
   {
    "duration": 245,
    "start_time": "2022-02-07T18:26:09.126Z"
   },
   {
    "duration": 199,
    "start_time": "2022-02-07T18:26:09.375Z"
   },
   {
    "duration": 144,
    "start_time": "2022-02-07T18:26:09.577Z"
   },
   {
    "duration": 35,
    "start_time": "2022-02-07T18:26:09.723Z"
   },
   {
    "duration": 55,
    "start_time": "2022-02-07T18:26:09.761Z"
   },
   {
    "duration": 97,
    "start_time": "2022-02-07T18:26:09.819Z"
   },
   {
    "duration": 39,
    "start_time": "2022-02-07T18:26:09.920Z"
   },
   {
    "duration": 21,
    "start_time": "2022-02-07T18:26:09.962Z"
   },
   {
    "duration": 24,
    "start_time": "2022-02-07T18:26:09.986Z"
   },
   {
    "duration": 86533,
    "start_time": "2022-02-07T18:26:10.012Z"
   },
   {
    "duration": 21,
    "start_time": "2022-02-07T18:27:36.549Z"
   },
   {
    "duration": 9,
    "start_time": "2022-02-07T18:27:36.572Z"
   },
   {
    "duration": 19,
    "start_time": "2022-02-07T18:27:36.583Z"
   },
   {
    "duration": 54,
    "start_time": "2022-02-07T18:27:36.604Z"
   },
   {
    "duration": 225,
    "start_time": "2022-02-07T18:27:36.660Z"
   },
   {
    "duration": 23,
    "start_time": "2022-02-07T18:27:36.887Z"
   },
   {
    "duration": 78,
    "start_time": "2022-02-07T18:27:36.914Z"
   },
   {
    "duration": 1839,
    "start_time": "2022-02-07T18:27:36.995Z"
   },
   {
    "duration": 671,
    "start_time": "2022-02-07T18:27:38.837Z"
   },
   {
    "duration": 16,
    "start_time": "2022-02-07T18:27:48.862Z"
   },
   {
    "duration": 93,
    "start_time": "2022-02-07T18:28:38.890Z"
   },
   {
    "duration": 14,
    "start_time": "2022-02-07T18:28:47.385Z"
   },
   {
    "duration": 14,
    "start_time": "2022-02-07T18:28:57.595Z"
   },
   {
    "duration": 13,
    "start_time": "2022-02-07T18:29:03.325Z"
   },
   {
    "duration": 13,
    "start_time": "2022-02-07T18:30:59.754Z"
   },
   {
    "duration": 5,
    "start_time": "2022-02-07T18:31:33.768Z"
   },
   {
    "duration": 5,
    "start_time": "2022-02-07T18:31:48.101Z"
   },
   {
    "duration": 5,
    "start_time": "2022-02-07T18:32:24.884Z"
   },
   {
    "duration": 11,
    "start_time": "2022-02-07T18:35:53.693Z"
   },
   {
    "duration": 13,
    "start_time": "2022-02-07T18:36:02.624Z"
   },
   {
    "duration": 12,
    "start_time": "2022-02-07T18:36:12.324Z"
   },
   {
    "duration": 14,
    "start_time": "2022-02-07T18:36:21.464Z"
   },
   {
    "duration": 13,
    "start_time": "2022-02-07T18:36:34.581Z"
   },
   {
    "duration": 12,
    "start_time": "2022-02-07T18:36:44.780Z"
   },
   {
    "duration": 13,
    "start_time": "2022-02-07T18:36:56.275Z"
   },
   {
    "duration": 12,
    "start_time": "2022-02-07T18:37:03.523Z"
   },
   {
    "duration": 12,
    "start_time": "2022-02-07T18:39:21.736Z"
   },
   {
    "duration": 13,
    "start_time": "2022-02-07T18:39:37.665Z"
   },
   {
    "duration": 12,
    "start_time": "2022-02-07T18:40:48.208Z"
   },
   {
    "duration": 11,
    "start_time": "2022-02-07T18:58:35.240Z"
   },
   {
    "duration": 14,
    "start_time": "2022-02-07T18:58:46.836Z"
   },
   {
    "duration": 13,
    "start_time": "2022-02-07T18:58:51.887Z"
   },
   {
    "duration": 10,
    "start_time": "2022-02-07T18:59:05.252Z"
   },
   {
    "duration": 11,
    "start_time": "2022-02-07T18:59:39.536Z"
   },
   {
    "duration": 13,
    "start_time": "2022-02-07T18:59:48.430Z"
   },
   {
    "duration": 6,
    "start_time": "2022-02-07T19:00:54.861Z"
   },
   {
    "duration": 422,
    "start_time": "2022-02-07T19:04:13.845Z"
   },
   {
    "duration": 305,
    "start_time": "2022-02-07T19:04:20.356Z"
   },
   {
    "duration": 12,
    "start_time": "2022-02-07T19:04:24.990Z"
   },
   {
    "duration": 308,
    "start_time": "2022-02-07T19:04:31.214Z"
   },
   {
    "duration": 13,
    "start_time": "2022-02-07T19:04:36.848Z"
   },
   {
    "duration": 5,
    "start_time": "2022-02-07T19:04:43.150Z"
   },
   {
    "duration": 264,
    "start_time": "2022-02-07T19:04:49.175Z"
   },
   {
    "duration": 6,
    "start_time": "2022-02-07T19:11:21.647Z"
   },
   {
    "duration": 122,
    "start_time": "2022-02-07T19:18:53.295Z"
   },
   {
    "duration": 3,
    "start_time": "2022-02-07T19:18:56.417Z"
   },
   {
    "duration": 7,
    "start_time": "2022-02-07T19:19:04.418Z"
   },
   {
    "duration": 6,
    "start_time": "2022-02-07T19:19:09.806Z"
   },
   {
    "duration": 5,
    "start_time": "2022-02-07T19:19:16.780Z"
   },
   {
    "duration": 13,
    "start_time": "2022-02-07T19:19:27.762Z"
   },
   {
    "duration": 7,
    "start_time": "2022-02-07T19:19:28.364Z"
   },
   {
    "duration": 6,
    "start_time": "2022-02-07T19:19:50.363Z"
   },
   {
    "duration": 95,
    "start_time": "2022-02-07T19:29:21.630Z"
   },
   {
    "duration": 48,
    "start_time": "2022-02-07T19:29:49.481Z"
   },
   {
    "duration": 50,
    "start_time": "2022-02-07T19:29:59.004Z"
   },
   {
    "duration": 45,
    "start_time": "2022-02-07T19:32:13.519Z"
   },
   {
    "duration": 61,
    "start_time": "2022-02-07T19:32:41.566Z"
   },
   {
    "duration": 63,
    "start_time": "2022-02-07T19:32:50.895Z"
   },
   {
    "duration": 62,
    "start_time": "2022-02-07T19:33:10.628Z"
   },
   {
    "duration": 63,
    "start_time": "2022-02-07T19:33:43.822Z"
   },
   {
    "duration": 594,
    "start_time": "2022-02-07T19:34:17.184Z"
   },
   {
    "duration": 12,
    "start_time": "2022-02-07T19:34:20.198Z"
   },
   {
    "duration": 13,
    "start_time": "2022-02-07T19:34:22.709Z"
   },
   {
    "duration": 31,
    "start_time": "2022-02-07T19:45:38.671Z"
   },
   {
    "duration": 1507,
    "start_time": "2022-02-07T19:50:56.511Z"
   },
   {
    "duration": 256,
    "start_time": "2022-02-07T19:50:58.022Z"
   },
   {
    "duration": 304,
    "start_time": "2022-02-07T19:50:58.282Z"
   },
   {
    "duration": 147,
    "start_time": "2022-02-07T19:50:58.590Z"
   },
   {
    "duration": 38,
    "start_time": "2022-02-07T19:50:58.740Z"
   },
   {
    "duration": 51,
    "start_time": "2022-02-07T19:50:58.780Z"
   },
   {
    "duration": 122,
    "start_time": "2022-02-07T19:50:58.834Z"
   },
   {
    "duration": 32,
    "start_time": "2022-02-07T19:50:58.961Z"
   },
   {
    "duration": 22,
    "start_time": "2022-02-07T19:50:58.997Z"
   },
   {
    "duration": 46,
    "start_time": "2022-02-07T19:50:59.022Z"
   },
   {
    "duration": 91500,
    "start_time": "2022-02-07T19:50:59.071Z"
   },
   {
    "duration": 20,
    "start_time": "2022-02-07T19:52:30.573Z"
   },
   {
    "duration": 22,
    "start_time": "2022-02-07T19:52:30.596Z"
   },
   {
    "duration": 33,
    "start_time": "2022-02-07T19:52:30.620Z"
   },
   {
    "duration": 23,
    "start_time": "2022-02-07T19:52:30.656Z"
   },
   {
    "duration": 230,
    "start_time": "2022-02-07T19:52:30.681Z"
   },
   {
    "duration": 34,
    "start_time": "2022-02-07T19:52:30.914Z"
   },
   {
    "duration": 77,
    "start_time": "2022-02-07T19:52:30.950Z"
   },
   {
    "duration": 1989,
    "start_time": "2022-02-07T19:52:31.030Z"
   },
   {
    "duration": 39,
    "start_time": "2022-02-07T19:52:33.022Z"
   },
   {
    "duration": 681,
    "start_time": "2022-02-07T19:52:33.064Z"
   },
   {
    "duration": 16,
    "start_time": "2022-02-07T19:52:33.749Z"
   },
   {
    "duration": 14,
    "start_time": "2022-02-07T19:52:33.771Z"
   },
   {
    "duration": 293,
    "start_time": "2022-02-07T19:52:33.788Z"
   },
   {
    "duration": 239,
    "start_time": "2022-02-07T19:52:45.329Z"
   },
   {
    "duration": 160,
    "start_time": "2022-02-07T19:52:46.791Z"
   },
   {
    "duration": 33,
    "start_time": "2022-02-07T19:52:48.122Z"
   },
   {
    "duration": 50,
    "start_time": "2022-02-07T19:52:49.318Z"
   },
   {
    "duration": 100,
    "start_time": "2022-02-07T19:52:51.359Z"
   },
   {
    "duration": 32,
    "start_time": "2022-02-07T19:52:52.409Z"
   },
   {
    "duration": 20,
    "start_time": "2022-02-07T19:52:52.866Z"
   },
   {
    "duration": 23,
    "start_time": "2022-02-07T19:52:53.352Z"
   },
   {
    "duration": 91542,
    "start_time": "2022-02-07T19:53:04.292Z"
   },
   {
    "duration": 24,
    "start_time": "2022-02-07T19:54:35.837Z"
   },
   {
    "duration": 8,
    "start_time": "2022-02-07T19:54:35.865Z"
   },
   {
    "duration": 20,
    "start_time": "2022-02-07T19:54:35.875Z"
   },
   {
    "duration": 55,
    "start_time": "2022-02-07T19:54:35.897Z"
   },
   {
    "duration": 222,
    "start_time": "2022-02-07T19:54:35.954Z"
   },
   {
    "duration": 24,
    "start_time": "2022-02-07T19:54:36.179Z"
   },
   {
    "duration": 88,
    "start_time": "2022-02-07T19:54:36.206Z"
   },
   {
    "duration": 1840,
    "start_time": "2022-02-07T19:54:36.297Z"
   },
   {
    "duration": 33,
    "start_time": "2022-02-07T19:54:38.140Z"
   },
   {
    "duration": 672,
    "start_time": "2022-02-07T19:54:38.176Z"
   },
   {
    "duration": 12,
    "start_time": "2022-02-07T19:54:38.851Z"
   },
   {
    "duration": 13,
    "start_time": "2022-02-07T19:54:38.865Z"
   },
   {
    "duration": 2109,
    "start_time": "2022-02-13T11:20:15.822Z"
   },
   {
    "duration": 327,
    "start_time": "2022-02-13T11:20:17.934Z"
   },
   {
    "duration": 264,
    "start_time": "2022-02-13T11:20:18.265Z"
   },
   {
    "duration": 145,
    "start_time": "2022-02-13T11:20:18.532Z"
   },
   {
    "duration": 33,
    "start_time": "2022-02-13T11:20:18.681Z"
   },
   {
    "duration": 51,
    "start_time": "2022-02-13T11:20:18.718Z"
   },
   {
    "duration": 140,
    "start_time": "2022-02-13T11:20:18.771Z"
   },
   {
    "duration": 42,
    "start_time": "2022-02-13T11:20:18.919Z"
   },
   {
    "duration": 31,
    "start_time": "2022-02-13T11:20:18.965Z"
   },
   {
    "duration": 40,
    "start_time": "2022-02-13T11:20:18.999Z"
   },
   {
    "duration": 92009,
    "start_time": "2022-02-13T11:20:19.041Z"
   },
   {
    "duration": 20,
    "start_time": "2022-02-13T11:21:51.052Z"
   },
   {
    "duration": 8,
    "start_time": "2022-02-13T11:21:51.075Z"
   },
   {
    "duration": 23,
    "start_time": "2022-02-13T11:21:51.086Z"
   },
   {
    "duration": 58,
    "start_time": "2022-02-13T11:21:51.112Z"
   },
   {
    "duration": 243,
    "start_time": "2022-02-13T11:21:51.173Z"
   },
   {
    "duration": 35,
    "start_time": "2022-02-13T11:21:51.418Z"
   },
   {
    "duration": 61,
    "start_time": "2022-02-13T11:21:51.456Z"
   },
   {
    "duration": 2641,
    "start_time": "2022-02-13T11:21:51.520Z"
   },
   {
    "duration": 49,
    "start_time": "2022-02-13T11:21:54.164Z"
   },
   {
    "duration": 992,
    "start_time": "2022-02-13T11:21:54.216Z"
   },
   {
    "duration": 16,
    "start_time": "2022-02-13T11:21:55.211Z"
   },
   {
    "duration": 46,
    "start_time": "2022-02-13T11:21:55.231Z"
   },
   {
    "duration": 1124,
    "start_time": "2022-03-08T13:53:09.421Z"
   },
   {
    "duration": 3,
    "start_time": "2022-03-08T13:53:21.932Z"
   },
   {
    "duration": 132,
    "start_time": "2022-03-08T13:53:26.978Z"
   },
   {
    "duration": 26,
    "start_time": "2022-03-08T13:53:32.594Z"
   },
   {
    "duration": 367,
    "start_time": "2022-03-08T13:54:39.584Z"
   },
   {
    "duration": 3,
    "start_time": "2022-03-08T13:54:51.324Z"
   },
   {
    "duration": 455,
    "start_time": "2022-03-08T13:54:51.810Z"
   },
   {
    "duration": 2,
    "start_time": "2022-03-08T13:54:52.549Z"
   },
   {
    "duration": 26,
    "start_time": "2022-03-08T13:54:55.664Z"
   },
   {
    "duration": 23,
    "start_time": "2022-03-08T13:54:57.398Z"
   },
   {
    "duration": 26,
    "start_time": "2022-03-08T13:54:58.871Z"
   },
   {
    "duration": 11,
    "start_time": "2022-03-08T13:55:00.328Z"
   },
   {
    "duration": 12,
    "start_time": "2022-03-08T13:55:02.278Z"
   },
   {
    "duration": 58,
    "start_time": "2022-03-08T13:55:25.546Z"
   },
   {
    "duration": 21,
    "start_time": "2022-03-08T13:55:30.896Z"
   },
   {
    "duration": 14,
    "start_time": "2022-03-08T13:55:31.270Z"
   },
   {
    "duration": 18,
    "start_time": "2022-03-08T13:55:31.636Z"
   },
   {
    "duration": 1021,
    "start_time": "2022-03-08T13:56:36.716Z"
   },
   {
    "duration": 357,
    "start_time": "2022-03-08T13:56:37.739Z"
   },
   {
    "duration": 3,
    "start_time": "2022-03-08T13:56:38.098Z"
   },
   {
    "duration": 28,
    "start_time": "2022-03-08T13:56:38.330Z"
   },
   {
    "duration": 20,
    "start_time": "2022-03-08T13:56:39.063Z"
   },
   {
    "duration": 17,
    "start_time": "2022-03-08T13:56:39.793Z"
   },
   {
    "duration": 10,
    "start_time": "2022-03-08T13:56:40.550Z"
   },
   {
    "duration": 11,
    "start_time": "2022-03-08T13:56:41.779Z"
   },
   {
    "duration": 63,
    "start_time": "2022-03-08T13:56:43.136Z"
   },
   {
    "duration": 22,
    "start_time": "2022-03-08T13:56:43.684Z"
   },
   {
    "duration": 14,
    "start_time": "2022-03-08T13:56:44.039Z"
   },
   {
    "duration": 16,
    "start_time": "2022-03-08T13:56:45.365Z"
   },
   {
    "duration": 53185,
    "start_time": "2022-03-08T13:56:46.403Z"
   },
   {
    "duration": 15,
    "start_time": "2022-03-08T13:57:39.590Z"
   },
   {
    "duration": 6,
    "start_time": "2022-03-08T13:57:54.765Z"
   },
   {
    "duration": 1071,
    "start_time": "2022-03-08T13:58:09.654Z"
   },
   {
    "duration": 352,
    "start_time": "2022-03-08T13:58:10.726Z"
   },
   {
    "duration": 4,
    "start_time": "2022-03-08T13:58:11.080Z"
   },
   {
    "duration": 43,
    "start_time": "2022-03-08T13:58:11.086Z"
   },
   {
    "duration": 20,
    "start_time": "2022-03-08T13:58:11.217Z"
   },
   {
    "duration": 19,
    "start_time": "2022-03-08T13:58:11.930Z"
   },
   {
    "duration": 12,
    "start_time": "2022-03-08T13:58:12.658Z"
   },
   {
    "duration": 13,
    "start_time": "2022-03-08T13:58:13.362Z"
   },
   {
    "duration": 91,
    "start_time": "2022-03-08T13:58:14.514Z"
   },
   {
    "duration": 21,
    "start_time": "2022-03-08T13:58:15.137Z"
   },
   {
    "duration": 15,
    "start_time": "2022-03-08T13:58:15.480Z"
   },
   {
    "duration": 19,
    "start_time": "2022-03-08T13:58:15.813Z"
   },
   {
    "duration": 52319,
    "start_time": "2022-03-08T13:58:16.682Z"
   },
   {
    "duration": 13,
    "start_time": "2022-03-08T13:59:09.003Z"
   },
   {
    "duration": 372,
    "start_time": "2022-03-08T14:00:54.510Z"
   },
   {
    "duration": 6,
    "start_time": "2022-03-08T14:01:11.128Z"
   },
   {
    "duration": 11,
    "start_time": "2022-03-08T14:01:24.791Z"
   },
   {
    "duration": 20,
    "start_time": "2022-03-08T14:01:29.503Z"
   },
   {
    "duration": 115,
    "start_time": "2022-03-08T14:01:37.155Z"
   },
   {
    "duration": 14,
    "start_time": "2022-03-08T14:01:47.102Z"
   },
   {
    "duration": 37,
    "start_time": "2022-03-08T14:01:54.278Z"
   },
   {
    "duration": 35,
    "start_time": "2022-03-08T14:02:18.956Z"
   },
   {
    "duration": 1005,
    "start_time": "2022-03-08T14:02:22.782Z"
   },
   {
    "duration": 20,
    "start_time": "2022-03-08T14:02:30.620Z"
   },
   {
    "duration": 376,
    "start_time": "2022-03-08T14:02:37.833Z"
   },
   {
    "duration": 9,
    "start_time": "2022-03-08T14:03:27.088Z"
   }
  ],
  "kernelspec": {
   "display_name": "Python 3",
   "language": "python",
   "name": "python3"
  },
  "language_info": {
   "codemirror_mode": {
    "name": "ipython",
    "version": 3
   },
   "file_extension": ".py",
   "mimetype": "text/x-python",
   "name": "python",
   "nbconvert_exporter": "python",
   "pygments_lexer": "ipython3",
   "version": "3.7.8"
  },
  "toc": {
   "base_numbering": 1,
   "nav_menu": {},
   "number_sections": true,
   "sideBar": true,
   "skip_h1_title": true,
   "title_cell": "Table of Contents",
   "title_sidebar": "Contents",
   "toc_cell": false,
   "toc_position": {
    "height": "calc(100% - 180px)",
    "left": "10px",
    "top": "150px",
    "width": "366.389px"
   },
   "toc_section_display": true,
   "toc_window_display": false
  }
 },
 "nbformat": 4,
 "nbformat_minor": 2
}
